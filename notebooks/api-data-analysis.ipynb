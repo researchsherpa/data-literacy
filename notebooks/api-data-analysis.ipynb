{
 "cells": [
  {
   "cell_type": "markdown",
   "id": "2f08925a-d319-4541-bca3-1437f7622b9c",
   "metadata": {
    "tags": []
   },
   "source": [
    "# API Data Analysis\n",
    "\n",
    "This is a quick analysis of the data pulled from myla (data.lacity.org) and H4LA's 311-data.org"
   ]
  },
  {
   "cell_type": "code",
   "execution_count": null,
   "id": "a685e27d-151c-4ad9-96c6-0b660729b28c",
   "metadata": {},
   "outputs": [],
   "source": [
    "%run start.py\n",
    "\n",
    "import utils\n",
    "from utils import read_new311_shape, marker_color_map, dt_to_object, read_ncs\n",
    "\n",
    "import numpy as np"
   ]
  },
  {
   "cell_type": "markdown",
   "id": "bf7806ee-4495-430c-b6f1-59a65ce4855a",
   "metadata": {},
   "source": [
    "# 1 - MyLA311\n",
    "\n",
    "I am using the geodataframe generated for 2021. As usual I'm using my helper function to load it and map the columns names.  Just a shortcut!\n",
    "\n",
    "I am going to use it to evaluate/compare the two data sets."
   ]
  },
  {
   "cell_type": "code",
   "execution_count": null,
   "id": "d503f5d5-cc8f-49f5-b216-ca8213ef929b",
   "metadata": {
    "tags": []
   },
   "outputs": [],
   "source": [
    "%%time\n",
    "myla311_gdf = read_new311_shape('../data/311/clean311-geo.zip/')"
   ]
  },
  {
   "cell_type": "code",
   "execution_count": null,
   "id": "32945696-c963-40c3-9764-703bed605228",
   "metadata": {},
   "outputs": [],
   "source": [
    "myla311_gdf['month_name'] = myla311_gdf['created_dt'].apply(lambda dt: dt.month_name())"
   ]
  },
  {
   "cell_type": "markdown",
   "id": "d5cbc511-06db-4006-9640-db3fce5ac1d5",
   "metadata": {},
   "source": [
    "# 2 - H4LA\n",
    "\n",
    "This is the csv file I generated in [api-hacks.ipynb](api-hacks.ipynb)for 2021.\n",
    "\n",
    "It's a csv so python dtype for createdDate is object.  I'll convert to datetime and add the month_name categorical."
   ]
  },
  {
   "cell_type": "code",
   "execution_count": null,
   "id": "4f907780-788c-4844-995d-856b0f52d477",
   "metadata": {},
   "outputs": [],
   "source": [
    "api311_df = pd.read_csv('../data/for-goog/api-call-2021.csv.zip')"
   ]
  },
  {
   "cell_type": "code",
   "execution_count": null,
   "id": "bb300464-dcb5-4f31-a092-6e6bf3d010e9",
   "metadata": {},
   "outputs": [],
   "source": [
    "api311_df['createdDate'] = pd.to_datetime(api311_df['createdDate'])"
   ]
  },
  {
   "cell_type": "code",
   "execution_count": null,
   "id": "76bde40d-3a11-4a9e-b3f0-85343440fe7d",
   "metadata": {},
   "outputs": [],
   "source": [
    "api311_df['month_name'] = api311_df['createdDate'].apply(lambda dt: dt.month_name())"
   ]
  },
  {
   "cell_type": "markdown",
   "id": "2dc16203-90d6-42a2-a434-bb3a31c2e593",
   "metadata": {},
   "source": [
    "I will first do the basic look-see."
   ]
  },
  {
   "cell_type": "code",
   "execution_count": null,
   "id": "f53224bd-c8f6-4db9-887a-bd7e621e69b8",
   "metadata": {},
   "outputs": [],
   "source": [
    "myla311 = len(myla311_gdf)\n",
    "api311 = len(api311_df)\n",
    "print(f\"size of myla311: {myla311}\")\n",
    "print(f\"size of api311: {api311}\")\n",
    "\n",
    "delta = myla311 - api311\n",
    "print(f\"delta: {delta} ({(delta / myla311):.1%} smaller)\")"
   ]
  },
  {
   "cell_type": "markdown",
   "id": "385b83cd-7448-45e8-b281-e8d8d8a5d9ba",
   "metadata": {},
   "source": [
    "Honestly, I have no idea which data set I would consider to be ground truth.  Some number of records seem to have been filtered for the api set.\n",
    "\n",
    "I am going to investigate further."
   ]
  },
  {
   "cell_type": "code",
   "execution_count": null,
   "id": "8680f877-eedd-4d62-bab1-22b888913a5f",
   "metadata": {},
   "outputs": [],
   "source": [
    "#myla311_gdf['month_name'].value_counts(sort=False)"
   ]
  },
  {
   "cell_type": "code",
   "execution_count": null,
   "id": "cd249108-396e-4afc-95e6-8550fa8af1ef",
   "metadata": {},
   "outputs": [],
   "source": [
    "#api311_df['month_name'].value_counts(sort=False)"
   ]
  },
  {
   "cell_type": "markdown",
   "id": "81268694-2f90-4d75-bddf-525b2150c588",
   "metadata": {},
   "source": [
    "As a starting point I want to look at value counts by month side-by-side."
   ]
  },
  {
   "cell_type": "code",
   "execution_count": null,
   "id": "8aaced73-bf68-4bdd-85ac-83580cf4b681",
   "metadata": {
    "tags": []
   },
   "outputs": [],
   "source": [
    "myla_vc = Output(layout={'border': '1px solid black',\n",
    "                            'width': '50%'})\n",
    "\n",
    "api_vc = Output(layout={'border': '1px solid black',\n",
    "                            'width': '50%'})\n",
    "\n",
    "with myla_vc:\n",
    "    display(HTML('<center><b>myla</b></center>'))\n",
    "    display(myla311_gdf['month_name'].value_counts(sort=False))\n",
    "    \n",
    "with api_vc:\n",
    "    display(HTML('<center><b>api</b></center>'))\n",
    "    display(api311_df['month_name'].value_counts(sort=False))\n",
    "          \n",
    "HBox([myla_vc, api_vc])            "
   ]
  },
  {
   "cell_type": "markdown",
   "id": "b187d9f3-a3ff-4fec-bf6e-09fbfc881e6a",
   "metadata": {},
   "source": [
    "They look pretty similar?  If you look close you'll see some differences in June and July.  We'll see more in a bit."
   ]
  },
  {
   "cell_type": "markdown",
   "id": "e4448c37-b36b-4f94-98df-232558896f05",
   "metadata": {},
   "source": [
    "# 3 - Investigate API Differences"
   ]
  },
  {
   "cell_type": "markdown",
   "id": "2aa23cbd-7dfa-4949-8e33-af8a08f7a5e5",
   "metadata": {},
   "source": [
    "From the initial sizing analysis the api has 24256 fewer records than myla.  Let's investigate.\n",
    "\n",
    "First I want to know if the unique things are unique.  The SRNumber - service request number should be."
   ]
  },
  {
   "cell_type": "code",
   "execution_count": null,
   "id": "1de8098a-c4d7-4670-99f4-f92f79241fcd",
   "metadata": {},
   "outputs": [],
   "source": [
    "print(len(api311_df))\n",
    "print(len(api311_df['srnumber'].unique()))"
   ]
  },
  {
   "cell_type": "markdown",
   "id": "01c3244f-67ba-4679-803f-0483541e1da6",
   "metadata": {},
   "source": [
    "Don't ya just hate data sometimes!!  One of the SRNumbers is duplcated in the api dataset.  I bet they are the same so ...\n",
    "\n",
    "Let's find it and see."
   ]
  },
  {
   "cell_type": "code",
   "execution_count": null,
   "id": "c30e6b29-1a88-4df2-a808-9c77b16e6525",
   "metadata": {},
   "outputs": [],
   "source": [
    "the_dup_sr = api311_df.loc[api311_df['srnumber'].duplicated(), :].iloc[0]['srnumber']\n",
    "the_dup_sr"
   ]
  },
  {
   "cell_type": "markdown",
   "id": "3ed84c96-0035-43d9-ad4a-8faa81ea9839",
   "metadata": {},
   "source": [
    "At least I can find this SRNumber in both of the dataframes."
   ]
  },
  {
   "cell_type": "code",
   "execution_count": null,
   "id": "3f557e17-db21-4ae1-bd01-290b5c7151df",
   "metadata": {},
   "outputs": [],
   "source": [
    "myla311_gdf.query(f\"SRNumber == @the_dup_sr\")"
   ]
  },
  {
   "cell_type": "code",
   "execution_count": null,
   "id": "6cdd77e9-488a-4339-a05a-2d16470b8f26",
   "metadata": {},
   "outputs": [],
   "source": [
    "api311_df.query(f\"srnumber == @the_dup_sr\").drop('Unnamed: 0', axis=1)"
   ]
  },
  {
   "cell_type": "markdown",
   "id": "5c2f511c-2a50-4b16-b031-3d09c4c768ab",
   "metadata": {},
   "source": [
    "So it's only duplicated in the api data set.  If you're using that df then toss it."
   ]
  },
  {
   "cell_type": "markdown",
   "id": "1a5dfaed-d480-4e97-9e2d-643c20b0b82d",
   "metadata": {},
   "source": [
    "Next I want to do understand the differencs.  For that, I need a dataframe that has records in myla311 and not in api311.  I will use some set hacking with SRNumber for this."
   ]
  },
  {
   "cell_type": "code",
   "execution_count": null,
   "id": "f52e08a8-72ec-4a19-9d84-6090be23fc7b",
   "metadata": {},
   "outputs": [],
   "source": [
    "myla_sr_set = set(myla311_gdf['SRNumber'])\n",
    "\n",
    "api_sr_set = set(api311_df['srnumber'])\n",
    "\n",
    "diff_sr_set = myla_sr_set.difference(api_sr_set)"
   ]
  },
  {
   "cell_type": "markdown",
   "id": "50eeebcd-5511-424e-942e-b9ac9b175518",
   "metadata": {},
   "source": [
    "So diff_sr_set is the set of SRNumbers in myla and not in api311.  I can use this to build the dataframe."
   ]
  },
  {
   "cell_type": "code",
   "execution_count": null,
   "id": "19319f22-a9f7-4c8b-9938-6ef89d7bba5d",
   "metadata": {},
   "outputs": [],
   "source": [
    "diff_df = myla311_gdf.query(f\"SRNumber in @diff_sr_set\").reset_index().drop(columns=['index'])"
   ]
  },
  {
   "cell_type": "code",
   "execution_count": null,
   "id": "5a895b73-0a60-4ff4-92cb-02af51fdbe8d",
   "metadata": {},
   "outputs": [],
   "source": [
    "diff_df.info()"
   ]
  },
  {
   "cell_type": "markdown",
   "id": "e6c550b1-22da-49b5-b25f-0e809a2253fd",
   "metadata": {},
   "source": [
    "This is the subset of records in myla that are not in api based on the SRNumber (a unique ID from the city?).\n",
    "\n",
    "I'm going to continue to look at this but for the types of analysis I do so it seem a bit like I'm paving the cowpath!"
   ]
  },
  {
   "cell_type": "markdown",
   "id": "ff994156-6001-4d4e-b424-a5982a764d28",
   "metadata": {},
   "source": [
    "Remember above I looked at things by month_name?  Check this out."
   ]
  },
  {
   "cell_type": "code",
   "execution_count": null,
   "id": "96ee4c94-3e7a-4b53-8776-c8b3957ace75",
   "metadata": {},
   "outputs": [],
   "source": [
    "diff_df['month_name'].value_counts(sort=False)"
   ]
  },
  {
   "cell_type": "markdown",
   "id": "3bfe02db-3acf-496c-9a76-ff125784f3fd",
   "metadata": {},
   "source": [
    "Interesting or weird?  Couple of things seem a bit strange.  Huge spike in June and July.  And it mysteriously stops at November?\n",
    "\n",
    "It's still such a small count overall so my reaction is meh.\n",
    "\n",
    "I suppose it's worth while to dig deeper?  (just for fun)"
   ]
  },
  {
   "cell_type": "code",
   "execution_count": null,
   "id": "f0272fce-00a2-4ed4-add4-8298b7b096a9",
   "metadata": {},
   "outputs": [],
   "source": [
    "diff_df.columns"
   ]
  },
  {
   "cell_type": "code",
   "execution_count": null,
   "id": "cb1d1d76-b46a-41c5-88b0-a55de7820173",
   "metadata": {},
   "outputs": [],
   "source": [
    "diff_df['created_dt'].max()"
   ]
  },
  {
   "cell_type": "code",
   "execution_count": null,
   "id": "ef106669-6a10-498c-8d7d-afa27280967c",
   "metadata": {},
   "outputs": [],
   "source": [
    "diff_df['created_dt'].min()"
   ]
  },
  {
   "cell_type": "code",
   "execution_count": null,
   "id": "f668bc07-bbd5-4814-ac75-9440c6504228",
   "metadata": {},
   "outputs": [],
   "source": [
    "api311_df.columns"
   ]
  },
  {
   "cell_type": "markdown",
   "id": "8e6942be-3a67-4a99-84b1-8cd82fb9e85f",
   "metadata": {},
   "source": [
    "I remember hearing about problems with datetimes?"
   ]
  },
  {
   "cell_type": "code",
   "execution_count": null,
   "id": "2374b4f3-e0df-4750-8529-ae4beca9b4ac",
   "metadata": {},
   "outputs": [],
   "source": [
    "print(diff_df['created_dt'].max())\n",
    "print(diff_df['created_dt'].min())\n",
    "\n",
    "print(diff_df['closed_dt'].max())\n",
    "print(diff_df['closed_dt'].min())"
   ]
  },
  {
   "cell_type": "markdown",
   "id": "6763d963-d6dd-4061-a6a6-f4fe10e315c3",
   "metadata": {},
   "source": [
    "Ok.  These dates are all within range (i.e. 2021).  Note: null values for closed_dt are ok - just means it's not closed.\n",
    "\n",
    "Finally let's look at neighborhood councls (nc and nc_name).  Need to check for nulls and \"invalid\" ids/names."
   ]
  },
  {
   "cell_type": "code",
   "execution_count": null,
   "id": "655eba3d-368e-42a4-b45a-c1a5488c1b25",
   "metadata": {},
   "outputs": [],
   "source": [
    "diff_df['nc'].isnull().sum()"
   ]
  },
  {
   "cell_type": "markdown",
   "id": "560969fa-329b-4335-bcbd-d87dd73fd3ac",
   "metadata": {},
   "source": [
    "So 214 out of 24257 is ??  It's a small number of a small number.  Sort of irrelevant?\n",
    "\n",
    "I've already spent way to much time on this, but lets see one last thing.  How many of the nc's are \"valid\" (i.e. they are in the certified nc data from empowerla)"
   ]
  },
  {
   "cell_type": "code",
   "execution_count": null,
   "id": "7a1dc45b-0b01-424a-b791-c60bb86f1a1a",
   "metadata": {},
   "outputs": [],
   "source": [
    "neighborhoods_gdf = read_ncs()\n",
    "\n",
    "nc_id_set = set(neighborhoods_gdf['nc_id'])"
   ]
  },
  {
   "cell_type": "code",
   "execution_count": null,
   "id": "bf1e1216-7699-4efc-8f42-045c6f9e0b70",
   "metadata": {},
   "outputs": [],
   "source": [
    "nc_set = set(diff_df['nc'])"
   ]
  },
  {
   "cell_type": "code",
   "execution_count": null,
   "id": "01c177eb-283a-4ffa-961b-66a118407ebf",
   "metadata": {},
   "outputs": [],
   "source": [
    "nc_id_set.difference(nc_set)"
   ]
  },
  {
   "cell_type": "markdown",
   "id": "68eb820a-2cc5-4915-9fab-28add4388896",
   "metadata": {},
   "source": [
    "So I have the id's in myla minus the set of id's in api is empty.  That means the nc's are valid (as defined by the certified data set from data.lacity.org).\n",
    "\n",
    "I'm not going any further."
   ]
  },
  {
   "cell_type": "markdown",
   "id": "9004818e-6b2d-404a-b3ec-4aa9728233f6",
   "metadata": {},
   "source": [
    "# 4 - Conclusion \n",
    "\n",
    "Use either one!"
   ]
  },
  {
   "cell_type": "code",
   "execution_count": null,
   "id": "7127012c-13eb-45bb-95c2-16e6331fc3ec",
   "metadata": {},
   "outputs": [],
   "source": []
  }
 ],
 "metadata": {
  "kernelspec": {
   "display_name": "Python 3 (ipykernel)",
   "language": "python",
   "name": "python3"
  },
  "language_info": {
   "codemirror_mode": {
    "name": "ipython",
    "version": 3
   },
   "file_extension": ".py",
   "mimetype": "text/x-python",
   "name": "python",
   "nbconvert_exporter": "python",
   "pygments_lexer": "ipython3",
   "version": "3.9.9"
  }
 },
 "nbformat": 4,
 "nbformat_minor": 5
}
