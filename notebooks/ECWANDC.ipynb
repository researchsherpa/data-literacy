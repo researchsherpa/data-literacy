{
 "cells": [
  {
   "cell_type": "markdown",
   "id": "60d2343f-eb5d-4ccd-ae63-ff7a6b92470f",
   "metadata": {
    "tags": []
   },
   "source": [
    "# Empowerment Congress West Area\n",
    "\n",
    "Simple idioms I use to display with ipyleaflet.\n",
    "\n",
    "In this notebook we'll use one of the attributes of the 311 data (nc) to focus on the map.\n",
    "\n",
    "Steps:\n",
    "\n",
    "1.  Initial imports\n",
    "2.  Read data\n",
    "3.  Explore the data\n",
    "4.  Visualize/Interact with the map\n",
    "5.  Sense-making"
   ]
  },
  {
   "cell_type": "markdown",
   "id": "99effd45-78a4-4103-b24a-6a9e521711b3",
   "metadata": {},
   "source": [
    "# 1. Setup\n",
    "\n",
    "I'm assuming you have an environment ala the environment.yml file.  \n",
    "\n",
    "I have a startup script in the ~/.ipython/profile_default/startup directory.  I've copied it to this folder so you can run it for the same effect.\n",
    "\n",
    "**Note:** I'm importing the utility function read_new311_shape to read the preproccessed 311 data and map the column names/types."
   ]
  },
  {
   "cell_type": "code",
   "execution_count": 1,
   "id": "92ecc335-3d84-4ef4-828c-19cb29ad3a30",
   "metadata": {
    "tags": []
   },
   "outputs": [],
   "source": [
    "%run start.py\n",
    "import nc\n",
    "\n",
    "from utils import read_new311_shape, marker_color_map"
   ]
  },
  {
   "cell_type": "markdown",
   "id": "c579c401-9907-493a-ace7-5aa81fb20129",
   "metadata": {},
   "source": [
    "Next it's nice to get a sense about this Neighborhood Council.  I found this url linked off empowerla.org site.\n",
    "\n",
    "They allow me to visualize as embedded IFrame so here it is.  This helps in storytelling."
   ]
  },
  {
   "cell_type": "code",
   "execution_count": 2,
   "id": "f64459f1-bfcb-4b64-9752-eb2f6d02a328",
   "metadata": {
    "tags": []
   },
   "outputs": [
    {
     "data": {
      "text/html": [
       "\n",
       "        <iframe\n",
       "            width=\"1400\"\n",
       "            height=\"800\"\n",
       "            src=\"https://ecwandc.org/about-ecwa\"\n",
       "            frameborder=\"0\"\n",
       "            allowfullscreen\n",
       "            \n",
       "        ></iframe>\n",
       "        "
      ],
      "text/plain": [
       "<IPython.lib.display.IFrame at 0x7f9d1e013ac0>"
      ]
     },
     "execution_count": 2,
     "metadata": {},
     "output_type": "execute_result"
    }
   ],
   "source": [
    "IFrame(\"https://ecwandc.org/about-ecwa\", width=1400, height=800)"
   ]
  },
  {
   "cell_type": "markdown",
   "id": "6a45b916-d384-44d3-b5e4-e3da8a87d274",
   "metadata": {},
   "source": [
    "# 2. Get the Data\n",
    "\n",
    "Standard idioms for this:\n",
    "\n",
    "  > - 311 observations as a shape file from zip file\n",
    "  > - NC polygons\n",
    "  \n",
    "Both of these data sets have been through the appropriate preprocessing steps."
   ]
  },
  {
   "cell_type": "code",
   "execution_count": 3,
   "id": "3614f22a-4399-41f4-baff-c3b510494f6a",
   "metadata": {
    "tags": []
   },
   "outputs": [
    {
     "name": "stdout",
     "output_type": "stream",
     "text": [
      "CPU times: user 874 ms, sys: 26.6 ms, total: 901 ms\n",
      "Wall time: 899 ms\n"
     ]
    }
   ],
   "source": [
    "%%time\n",
    "ecwandc311_gdf = read_new311_shape('../data/311/ecwandc311.zip/')"
   ]
  },
  {
   "cell_type": "markdown",
   "id": "ec2de794-e999-4d70-9a49-ddb6adf375b1",
   "metadata": {},
   "source": [
    "**Note** - This is becoming a standard way to read the NC polygons.  Probably time to refactor and move to src?"
   ]
  },
  {
   "cell_type": "code",
   "execution_count": 4,
   "id": "ab4807fd-f03f-4d0a-9ed3-82307173a631",
   "metadata": {
    "tags": []
   },
   "outputs": [],
   "source": [
    "ncs_gdf = gpd.read_file('../data/neighborhoods/Neighborhood_Councils_(Certified)_cleaned.zip/')"
   ]
  },
  {
   "cell_type": "code",
   "execution_count": 5,
   "id": "7147f3de-5113-491d-b0d3-81364c6db43f",
   "metadata": {},
   "outputs": [],
   "source": [
    "ncs_gdf.rename(columns={'NAME': 'name',\n",
    "                        'NC_ID': 'nc_id',\n",
    "                        'SERVICE_RE': 'service_region'},\n",
    "              inplace=True);"
   ]
  },
  {
   "cell_type": "markdown",
   "id": "d80bee82-9c3f-4b9a-93f9-8b0468092029",
   "metadata": {},
   "source": [
    "# 3. Examine the Data"
   ]
  },
  {
   "cell_type": "code",
   "execution_count": 6,
   "id": "a98325ea-dbf7-4dfc-b512-23cfbf441184",
   "metadata": {},
   "outputs": [
    {
     "data": {
      "text/plain": [
       "Index(['SRNumber', 'created_dt', 'updated_dt', 'owner', 'request_type',\n",
       "       'service_dt', 'closed_dt', 'address', 'street', 'zip_code', 'latitude',\n",
       "       'longitude', 'location', 'APC', 'cd', 'cd_member', 'nc', 'nc_name',\n",
       "       'precinct', 'days_to_service', 'days_to_close', 'days_to_update',\n",
       "       'service_region', 'region_id', 'marker_color', 'popup_message',\n",
       "       'geometry'],\n",
       "      dtype='object')"
      ]
     },
     "execution_count": 6,
     "metadata": {},
     "output_type": "execute_result"
    }
   ],
   "source": [
    "ecwandc311_gdf.columns"
   ]
  },
  {
   "cell_type": "code",
   "execution_count": 7,
   "id": "43c21ef5-9a88-44b3-81c4-fe2d22c69891",
   "metadata": {},
   "outputs": [
    {
     "data": {
      "text/plain": [
       "Bulky Items                   6819\n",
       "Illegal Dumping Pickup        2035\n",
       "Metal/Household Appliances    1305\n",
       "Electronic Waste               544\n",
       "Graffiti Removal               435\n",
       "Dead Animal Removal            245\n",
       "Other                          220\n",
       "Homeless Encampment            185\n",
       "Multiple Streetlight Issue      72\n",
       "Single Streetlight Issue        58\n",
       "Report Water Waste               7\n",
       "Feedback                         7\n",
       "Name: request_type, dtype: int64"
      ]
     },
     "execution_count": 7,
     "metadata": {},
     "output_type": "execute_result"
    }
   ],
   "source": [
    "ecwandc311_gdf.request_type.value_counts()"
   ]
  },
  {
   "cell_type": "code",
   "execution_count": 8,
   "id": "5706850e-825d-4da3-8528-674b8f7e2e95",
   "metadata": {},
   "outputs": [
    {
     "data": {
      "text/plain": [
       "Bulky Items                   6819\n",
       "Illegal Dumping Pickup        2035\n",
       "Metal/Household Appliances    1305\n",
       "Electronic Waste               544\n",
       "Graffiti Removal               435\n",
       "Dead Animal Removal            245\n",
       "Other                          220\n",
       "Homeless Encampment            185\n",
       "Multiple Streetlight Issue      72\n",
       "Single Streetlight Issue        58\n",
       "Report Water Waste               7\n",
       "Feedback                         7\n",
       "Name: request_type, dtype: int64"
      ]
     },
     "execution_count": 8,
     "metadata": {},
     "output_type": "execute_result"
    }
   ],
   "source": [
    "ecwandc311_gdf.request_type.value_counts()"
   ]
  },
  {
   "cell_type": "code",
   "execution_count": 9,
   "id": "463398f4-6903-4598-ae49-f0306d44aca3",
   "metadata": {},
   "outputs": [
    {
     "data": {
      "text/plain": [
       "LASAN    11144\n",
       "OCB        435\n",
       "ITA        212\n",
       "BSL        132\n",
       "LADWP        7\n",
       "BSS          2\n",
       "Name: owner, dtype: int64"
      ]
     },
     "execution_count": 9,
     "metadata": {},
     "output_type": "execute_result"
    }
   ],
   "source": [
    "ecwandc311_gdf['owner'].value_counts()"
   ]
  },
  {
   "cell_type": "code",
   "execution_count": 10,
   "id": "6193e748-e819-4918-9950-87faf04a1cdc",
   "metadata": {},
   "outputs": [
    {
     "data": {
      "text/plain": [
       "Timestamp('2021-01-01 10:36:48')"
      ]
     },
     "execution_count": 10,
     "metadata": {},
     "output_type": "execute_result"
    }
   ],
   "source": [
    "ecwandc311_gdf.created_dt.min()"
   ]
  },
  {
   "cell_type": "code",
   "execution_count": 11,
   "id": "363b958f-2ec8-40c3-9dce-4adb1f7ca5a9",
   "metadata": {},
   "outputs": [
    {
     "data": {
      "text/plain": [
       "Timestamp('2021-11-20 07:34:38')"
      ]
     },
     "execution_count": 11,
     "metadata": {},
     "output_type": "execute_result"
    }
   ],
   "source": [
    "ecwandc311_gdf.created_dt.max()"
   ]
  },
  {
   "cell_type": "code",
   "execution_count": 12,
   "id": "bcf4adcd-ae20-4cae-a151-61243e3be819",
   "metadata": {},
   "outputs": [
    {
     "data": {
      "text/plain": [
       "46.0"
      ]
     },
     "execution_count": 12,
     "metadata": {},
     "output_type": "execute_result"
    }
   ],
   "source": [
    "(_ - __).days / 7"
   ]
  },
  {
   "cell_type": "code",
   "execution_count": 13,
   "id": "c446c008-8062-4b25-a1e3-ee95279dc764",
   "metadata": {},
   "outputs": [
    {
     "name": "stderr",
     "output_type": "stream",
     "text": [
      "11932it [01:13, 162.00it/s]\n"
     ]
    }
   ],
   "source": [
    "import numpy as np\n",
    "markers = list()\n",
    "\n",
    "def closed(dt):\n",
    "    if not(pd.isnull(dt)):\n",
    "        return dt.strftime(\"%m/%d/%Y, %H:%M\")\n",
    "    else:\n",
    "        return \"Still Open\"\n",
    "\n",
    "for i, row in tqdm(ecwandc311_gdf.iterrows()):\n",
    "    \n",
    "    fill_color = marker_color_map[row.request_type]\n",
    "    marker = CircleMarker(location=(row.geometry.y, row.geometry.x), radius=5, stroke=False, fill_color=fill_color, fill_opacity=1.0)\n",
    "    msg = HTML()\n",
    "    msg.value = \"report: {}<br>Address: {}<br>when: {}<br>finished: {}<br>type: {}\".format(row['SRNumber'], \n",
    "                                                              row['address'],\n",
    "                                                            row['created_dt'].strftime(\"%m/%d/%Y, %H:%M\"),\n",
    "                                                            closed(row['closed_dt']),\n",
    "                                                            row['request_type']) #\"status: {}<br/>coord: {}\".format(r['status'], r['coordinates'])\n",
    "    marker.popup = msg\n",
    "    markers.append(marker)\n",
    "    ecwandc311_gdf.loc[i, 'marker'] = marker\n",
    "\n",
    "ecwandc_311_cluster = MarkerCluster(markers=markers, name='311 Calls')\n"
   ]
  },
  {
   "cell_type": "code",
   "execution_count": 15,
   "id": "ee8d87dc-9b15-4c76-b902-2662dd405d3a",
   "metadata": {},
   "outputs": [],
   "source": [
    "#ncs_gdf.to_crs(epsg=4326, inplace=True)\n",
    "ecwandc_gdf = ncs_gdf.query(f\"nc_id == 79\").reset_index()"
   ]
  },
  {
   "cell_type": "code",
   "execution_count": 16,
   "id": "a318d23f-0555-4083-a68c-0eeea5899424",
   "metadata": {},
   "outputs": [],
   "source": [
    "center = ecwandc_gdf.iloc[0].geometry.centroid.y, ecwandc_gdf.iloc[0].geometry.centroid.x"
   ]
  },
  {
   "cell_type": "code",
   "execution_count": 17,
   "id": "9c644c0b-4173-4717-b68c-ad1ae7d089be",
   "metadata": {},
   "outputs": [],
   "source": [
    "nc_layer = GeoData(geo_dataframe = ecwandc_gdf,\n",
    "                   style={'color': 'black', 'fillColor': '#3366cc', 'opacity':0.8, 'weight':1.9, 'dashArray':'5', 'fillOpacity':0.2},\n",
    "                   hover_style={'fillColor': 'red' , 'fillOpacity': 0.2},\n",
    "                   name = 'Empowerment Congress West Area')"
   ]
  },
  {
   "cell_type": "code",
   "execution_count": 18,
   "id": "d8745778-e6ee-40e7-baa9-78df1a23593c",
   "metadata": {},
   "outputs": [
    {
     "data": {
      "application/vnd.jupyter.widget-view+json": {
       "model_id": "5a471ec035554046a818579007240f78",
       "version_major": 2,
       "version_minor": 0
      },
      "text/plain": [
       "Map(center=[34.012778461394376, -118.3454865165203], controls=(ZoomControl(options=['position', 'zoom_in_text'…"
      ]
     },
     "metadata": {},
     "output_type": "display_data"
    }
   ],
   "source": [
    "#from ipyleaflet import FullScreenControl\n",
    "imagery = basemap_to_tiles(basemaps.Esri.WorldImagery)\n",
    "imagery.base = True\n",
    "osm = basemap_to_tiles(basemaps.OpenStreetMap.Mapnik)\n",
    "osm.base = True\n",
    "\n",
    "google_map = TileLayer(\n",
    "    url=\"https://mt1.google.com/vt/lyrs=m&x={x}&y={y}&z={z}\",\n",
    "    attribution=\"Google\",\n",
    "    name=\"Google Maps\",\n",
    ")\n",
    "google_map.base = True\n",
    "\n",
    "google_satellite = TileLayer(\n",
    "    url=\"https://mt1.google.com/vt/lyrs=y&x={x}&y={y}&z={z}\",\n",
    "    attribution=\"Google\",\n",
    "    name=\"Google Satellite\"\n",
    ")\n",
    "google_satellite.base = True\n",
    "\n",
    "map_display = Map(center=center, zoom=15,\n",
    "                  layers=[google_satellite, google_map, imagery, osm],\n",
    "                  layout=Layout(height=\"900px\"),\n",
    "                  scroll_wheel_zoom=True)\n",
    "\n",
    "map_display.add_control(LayersControl())\n",
    "\n",
    "#map_display.add_layer(geo_data)\n",
    "map_display.add_control(FullScreenControl())\n",
    "map_display += nc_layer\n",
    "map_display.add_layer(ecwandc_311_cluster)\n",
    "\n",
    "all_311 = LayerGroup(name=f\"All 311\", layers=markers)\n",
    "map_display += all_311\n",
    "map_display"
   ]
  },
  {
   "cell_type": "code",
   "execution_count": null,
   "id": "b90d5cc5-1ad5-48ab-a1ea-0916d6dc8ffe",
   "metadata": {},
   "outputs": [],
   "source": []
  },
  {
   "cell_type": "code",
   "execution_count": null,
   "id": "a5a55045-68cf-4b18-8cb7-e20a9824e010",
   "metadata": {},
   "outputs": [],
   "source": [
    "neighborhood_census_df = pd.read_csv('../data/neighborhoods/Census_Data_by_Neighborhood_Council.csv')"
   ]
  },
  {
   "cell_type": "code",
   "execution_count": null,
   "id": "25f3828c-e687-4d98-b362-02672d9fb014",
   "metadata": {},
   "outputs": [],
   "source": [
    "neighborhood_census_df.columns"
   ]
  },
  {
   "cell_type": "code",
   "execution_count": null,
   "id": "cab3da81-051d-4a17-90d5-eea4b828b0ba",
   "metadata": {},
   "outputs": [],
   "source": [
    "neighborhood_census_df['NC_Name'].to_list()"
   ]
  },
  {
   "cell_type": "code",
   "execution_count": null,
   "id": "8b7c118c-c452-4182-a7e8-ccf4c4441a81",
   "metadata": {},
   "outputs": [],
   "source": [
    "neighborhood_census_df.query(f\"NC_Name == 'EMPOWERMENT CONGRESS WEST AREA NDC'\")"
   ]
  },
  {
   "cell_type": "code",
   "execution_count": null,
   "id": "c254d218-8b5a-4b0e-af90-f75294acbc20",
   "metadata": {},
   "outputs": [],
   "source": [
    "neighborhood_census_df.iloc[21]"
   ]
  },
  {
   "cell_type": "code",
   "execution_count": null,
   "id": "3c0fd8dd-a22e-43b7-8e60-66d44ea6413b",
   "metadata": {},
   "outputs": [],
   "source": [
    "(_['In_Poverty'] / _['Total Population'])"
   ]
  },
  {
   "cell_type": "code",
   "execution_count": null,
   "id": "1ef5e101-0db6-4867-a887-fdcfb69c54b7",
   "metadata": {},
   "outputs": [],
   "source": [
    "__['White_pop'] / __['Total Population']"
   ]
  },
  {
   "cell_type": "code",
   "execution_count": null,
   "id": "a1ebac0c-14d2-4272-af67-bb0185356772",
   "metadata": {},
   "outputs": [],
   "source": [
    "___['Owner_occ'] / ___['Total Population']"
   ]
  },
  {
   "cell_type": "code",
   "execution_count": null,
   "id": "fa51314c-4c9d-495b-b5a8-471c884b4b68",
   "metadata": {},
   "outputs": [],
   "source": [
    "ecwandc311_gdf.columns"
   ]
  },
  {
   "cell_type": "code",
   "execution_count": null,
   "id": "6a185bb4-027e-47fc-9b88-e43b1f666640",
   "metadata": {},
   "outputs": [],
   "source": [
    "ecwandc311_gdf.days_to_close.mean()"
   ]
  },
  {
   "cell_type": "code",
   "execution_count": null,
   "id": "bc204b7c-5da6-4f81-9fb5-30c908b0cd93",
   "metadata": {},
   "outputs": [],
   "source": []
  }
 ],
 "metadata": {
  "kernelspec": {
   "display_name": "Python 3 (ipykernel)",
   "language": "python",
   "name": "python3"
  },
  "language_info": {
   "codemirror_mode": {
    "name": "ipython",
    "version": 3
   },
   "file_extension": ".py",
   "mimetype": "text/x-python",
   "name": "python",
   "nbconvert_exporter": "python",
   "pygments_lexer": "ipython3",
   "version": "3.8.12"
  }
 },
 "nbformat": 4,
 "nbformat_minor": 5
}
