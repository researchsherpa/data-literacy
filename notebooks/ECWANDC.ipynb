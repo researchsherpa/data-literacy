{
 "cells": [
  {
   "cell_type": "markdown",
   "id": "60d2343f-eb5d-4ccd-ae63-ff7a6b92470f",
   "metadata": {
    "tags": []
   },
   "source": [
    "# Empowerment Congress West Area\n",
    "\n",
    "Simple idioms I use to display with ipyleaflet.\n",
    "\n",
    "In this notebook we'll use one of the attributes of the 311 data (nc) to focus on the map.\n",
    "\n",
    "Steps:\n",
    "\n",
    "1.  Initial imports\n",
    "2.  Read data\n",
    "3.  Explore the data\n",
    "4.  Visualize/Interact with the map\n",
    "5.  Sense-making"
   ]
  },
  {
   "cell_type": "markdown",
   "id": "99effd45-78a4-4103-b24a-6a9e521711b3",
   "metadata": {},
   "source": [
    "# 1. Setup\n",
    "\n",
    "I'm assuming you have an environment ala the environment.yml file.  \n",
    "\n",
    "I have a startup script in the ~/.ipython/profile_default/startup directory.  I've copied it to this folder so you can run it for the same effect.\n",
    "\n",
    "**Note:** I'm importing the utility function read_new311_shape to read the preproccessed 311 data and map the column names/types."
   ]
  },
  {
   "cell_type": "code",
   "execution_count": null,
   "id": "92ecc335-3d84-4ef4-828c-19cb29ad3a30",
   "metadata": {
    "tags": []
   },
   "outputs": [],
   "source": [
    "%run start.py\n",
    "import nc\n",
    "\n",
    "from utils import read_new311_shape, marker_color_map"
   ]
  },
  {
   "cell_type": "markdown",
   "id": "c579c401-9907-493a-ace7-5aa81fb20129",
   "metadata": {},
   "source": [
    "Next it's nice to get a sense about this Neighborhood Council.  I found this url linked off empowerla.org site.\n",
    "\n",
    "They allow me to visualize as embedded IFrame so here it is.  This helps in storytelling."
   ]
  },
  {
   "cell_type": "code",
   "execution_count": null,
   "id": "f64459f1-bfcb-4b64-9752-eb2f6d02a328",
   "metadata": {
    "tags": []
   },
   "outputs": [],
   "source": [
    "IFrame(\"https://ecwandc.org/about-ecwa\", width=1400, height=800)"
   ]
  },
  {
   "cell_type": "markdown",
   "id": "6a45b916-d384-44d3-b5e4-e3da8a87d274",
   "metadata": {},
   "source": [
    "# 2. Get the Data\n",
    "\n",
    "Standard idioms for this:\n",
    "\n",
    "  > - 311 observations as a shape file from zip file\n",
    "  > - NC polygons\n",
    "  \n",
    "Both of these data sets have been through the appropriate preprocessing steps."
   ]
  },
  {
   "cell_type": "code",
   "execution_count": null,
   "id": "3614f22a-4399-41f4-baff-c3b510494f6a",
   "metadata": {
    "tags": []
   },
   "outputs": [],
   "source": [
    "%%time\n",
    "ecwandc311_gdf = read_new311_shape('../data/311/ecwandc311.shp')"
   ]
  },
  {
   "cell_type": "markdown",
   "id": "ec2de794-e999-4d70-9a49-ddb6adf375b1",
   "metadata": {},
   "source": [
    "**Note** - This is becoming a standard way to read the NC polygons.  Probably time to refactor and move to src?"
   ]
  },
  {
   "cell_type": "code",
   "execution_count": null,
   "id": "ab4807fd-f03f-4d0a-9ed3-82307173a631",
   "metadata": {
    "tags": []
   },
   "outputs": [],
   "source": [
    "ncs_gdf = gpd.read_file('../data/neighborhoods/Neighborhood_Councils_(Certified)_cleaned.shp')"
   ]
  },
  {
   "cell_type": "code",
   "execution_count": null,
   "id": "7147f3de-5113-491d-b0d3-81364c6db43f",
   "metadata": {},
   "outputs": [],
   "source": [
    "ncs_gdf.rename(columns={'NAME': 'name',\n",
    "                        'NC_ID': 'nc_id',\n",
    "                        'SERVICE_RE': 'service_region'},\n",
    "              inplace=True);"
   ]
  },
  {
   "cell_type": "markdown",
   "id": "d80bee82-9c3f-4b9a-93f9-8b0468092029",
   "metadata": {},
   "source": [
    "# 3. Examine the Data"
   ]
  },
  {
   "cell_type": "code",
   "execution_count": null,
   "id": "a98325ea-dbf7-4dfc-b512-23cfbf441184",
   "metadata": {},
   "outputs": [],
   "source": [
    "ecwandc311_gdf.columns"
   ]
  },
  {
   "cell_type": "code",
   "execution_count": null,
   "id": "43c21ef5-9a88-44b3-81c4-fe2d22c69891",
   "metadata": {},
   "outputs": [],
   "source": [
    "ecwandc311_gdf.request_type.value_counts()"
   ]
  },
  {
   "cell_type": "code",
   "execution_count": null,
   "id": "5706850e-825d-4da3-8528-674b8f7e2e95",
   "metadata": {},
   "outputs": [],
   "source": [
    "ecwandc311_gdf.request_type.value_counts()"
   ]
  },
  {
   "cell_type": "code",
   "execution_count": null,
   "id": "463398f4-6903-4598-ae49-f0306d44aca3",
   "metadata": {},
   "outputs": [],
   "source": [
    "ecwandc311_gdf['owner'].value_counts()"
   ]
  },
  {
   "cell_type": "code",
   "execution_count": null,
   "id": "6193e748-e819-4918-9950-87faf04a1cdc",
   "metadata": {},
   "outputs": [],
   "source": [
    "ecwandc311_gdf.created_dt.min()"
   ]
  },
  {
   "cell_type": "code",
   "execution_count": null,
   "id": "363b958f-2ec8-40c3-9dce-4adb1f7ca5a9",
   "metadata": {},
   "outputs": [],
   "source": [
    "ecwandc311_gdf.created_dt.max()"
   ]
  },
  {
   "cell_type": "code",
   "execution_count": null,
   "id": "bcf4adcd-ae20-4cae-a151-61243e3be819",
   "metadata": {},
   "outputs": [],
   "source": [
    "(_ - __).days / 7"
   ]
  },
  {
   "cell_type": "code",
   "execution_count": null,
   "id": "c446c008-8062-4b25-a1e3-ee95279dc764",
   "metadata": {},
   "outputs": [],
   "source": [
    "import numpy as np\n",
    "markers = list()\n",
    "\n",
    "def closed(dt):\n",
    "    if not(pd.isnull(dt)):\n",
    "        return dt.strftime(\"%m/%d/%Y, %H:%M\")\n",
    "    else:\n",
    "        return \"Still Open\"\n",
    "\n",
    "for i, row in tqdm(ecwandc311_gdf.iterrows()):\n",
    "    \n",
    "    fill_color = marker_color_map[row.request_type]\n",
    "    marker = CircleMarker(location=(row.geometry.y, row.geometry.x), radius=5, stroke=False, fill_color=fill_color, fill_opacity=1.0)\n",
    "    msg = HTML()\n",
    "    msg.value = \"report: {}<br>Address: {}<br>when: {}<br>finished: {}<br>type: {}\".format(row['SRNumber'], \n",
    "                                                              row['address'],\n",
    "                                                            row['created_dt'].strftime(\"%m/%d/%Y, %H:%M\"),\n",
    "                                                            closed(row['closed_dt']),\n",
    "                                                            row['request_type']) #\"status: {}<br/>coord: {}\".format(r['status'], r['coordinates'])\n",
    "    marker.popup = msg\n",
    "    markers.append(marker)\n",
    "    ecwandc311_gdf.loc[i, 'marker'] = marker\n",
    "\n",
    "ecwandc_311_cluster = MarkerCluster(markers=markers, name='311 Calls')\n"
   ]
  },
  {
   "cell_type": "code",
   "execution_count": null,
   "id": "ee8d87dc-9b15-4c76-b902-2662dd405d3a",
   "metadata": {},
   "outputs": [],
   "source": [
    "#ncs_gdf.to_crs(epsg=4326, inplace=True)\n",
    "ecwandc_gdf = ncs_gdf.query(f\"nc_id == 79\").reset_index()"
   ]
  },
  {
   "cell_type": "code",
   "execution_count": null,
   "id": "a318d23f-0555-4083-a68c-0eeea5899424",
   "metadata": {},
   "outputs": [],
   "source": [
    "center = ecwandc_gdf.iloc[0].geometry.centroid.y, ecwandc_gdf.iloc[0].geometry.centroid.x"
   ]
  },
  {
   "cell_type": "code",
   "execution_count": null,
   "id": "9c644c0b-4173-4717-b68c-ad1ae7d089be",
   "metadata": {},
   "outputs": [],
   "source": [
    "nc_layer = GeoData(geo_dataframe = ecwandc_gdf,\n",
    "                   style={'color': 'black', 'fillColor': '#3366cc', 'opacity':0.8, 'weight':1.9, 'dashArray':'5', 'fillOpacity':0.2},\n",
    "                   hover_style={'fillColor': 'red' , 'fillOpacity': 0.2},\n",
    "                   name = 'Empowerment Congress West Area')"
   ]
  },
  {
   "cell_type": "code",
   "execution_count": null,
   "id": "d8745778-e6ee-40e7-baa9-78df1a23593c",
   "metadata": {},
   "outputs": [],
   "source": [
    "#from ipyleaflet import FullScreenControl\n",
    "imagery = basemap_to_tiles(basemaps.Esri.WorldImagery)\n",
    "imagery.base = True\n",
    "osm = basemap_to_tiles(basemaps.OpenStreetMap.Mapnik)\n",
    "osm.base = True\n",
    "\n",
    "google_map = TileLayer(\n",
    "    url=\"https://mt1.google.com/vt/lyrs=m&x={x}&y={y}&z={z}\",\n",
    "    attribution=\"Google\",\n",
    "    name=\"Google Maps\",\n",
    ")\n",
    "google_map.base = True\n",
    "\n",
    "google_satellite = TileLayer(\n",
    "    url=\"https://mt1.google.com/vt/lyrs=y&x={x}&y={y}&z={z}\",\n",
    "    attribution=\"Google\",\n",
    "    name=\"Google Satellite\"\n",
    ")\n",
    "google_satellite.base = True\n",
    "\n",
    "map_display = Map(center=center, zoom=15,\n",
    "                  layers=[google_satellite, google_map, imagery, osm],\n",
    "                  layout=Layout(height=\"900px\"),\n",
    "                  scroll_wheel_zoom=True)\n",
    "\n",
    "map_display.add_control(LayersControl())\n",
    "\n",
    "#map_display.add_layer(geo_data)\n",
    "map_display.add_control(FullScreenControl())\n",
    "map_display += nc_layer\n",
    "map_display.add_layer(ecwandc_311_cluster)\n",
    "\n",
    "all_311 = LayerGroup(name=f\"All 311\", layers=markers)\n",
    "map_display += all_311\n",
    "map_display"
   ]
  },
  {
   "cell_type": "code",
   "execution_count": null,
   "id": "b90d5cc5-1ad5-48ab-a1ea-0916d6dc8ffe",
   "metadata": {},
   "outputs": [],
   "source": []
  },
  {
   "cell_type": "code",
   "execution_count": null,
   "id": "a5a55045-68cf-4b18-8cb7-e20a9824e010",
   "metadata": {},
   "outputs": [],
   "source": [
    "neighborhood_census_df = pd.read_csv('../data/neighborhoods/Census_Data_by_Neighborhood_Council.csv')"
   ]
  },
  {
   "cell_type": "code",
   "execution_count": null,
   "id": "25f3828c-e687-4d98-b362-02672d9fb014",
   "metadata": {},
   "outputs": [],
   "source": [
    "neighborhood_census_df.columns"
   ]
  },
  {
   "cell_type": "code",
   "execution_count": null,
   "id": "cab3da81-051d-4a17-90d5-eea4b828b0ba",
   "metadata": {},
   "outputs": [],
   "source": [
    "neighborhood_census_df['NC_Name'].to_list()"
   ]
  },
  {
   "cell_type": "code",
   "execution_count": null,
   "id": "8b7c118c-c452-4182-a7e8-ccf4c4441a81",
   "metadata": {},
   "outputs": [],
   "source": [
    "neighborhood_census_df.query(f\"NC_Name == 'EMPOWERMENT CONGRESS WEST AREA NDC'\")"
   ]
  },
  {
   "cell_type": "code",
   "execution_count": null,
   "id": "c254d218-8b5a-4b0e-af90-f75294acbc20",
   "metadata": {},
   "outputs": [],
   "source": [
    "neighborhood_census_df.iloc[21]"
   ]
  },
  {
   "cell_type": "code",
   "execution_count": null,
   "id": "3c0fd8dd-a22e-43b7-8e60-66d44ea6413b",
   "metadata": {},
   "outputs": [],
   "source": [
    "(_['In_Poverty'] / _['Total Population'])"
   ]
  },
  {
   "cell_type": "code",
   "execution_count": null,
   "id": "1ef5e101-0db6-4867-a887-fdcfb69c54b7",
   "metadata": {},
   "outputs": [],
   "source": [
    "__['White_pop'] / __['Total Population']"
   ]
  },
  {
   "cell_type": "code",
   "execution_count": null,
   "id": "a1ebac0c-14d2-4272-af67-bb0185356772",
   "metadata": {},
   "outputs": [],
   "source": [
    "___['Owner_occ'] / ___['Total Population']"
   ]
  },
  {
   "cell_type": "code",
   "execution_count": null,
   "id": "fa51314c-4c9d-495b-b5a8-471c884b4b68",
   "metadata": {},
   "outputs": [],
   "source": [
    "ecwandc311_gdf.columns"
   ]
  },
  {
   "cell_type": "code",
   "execution_count": null,
   "id": "6a185bb4-027e-47fc-9b88-e43b1f666640",
   "metadata": {},
   "outputs": [],
   "source": [
    "ecwandc311_gdf.days_to_close.mean()"
   ]
  },
  {
   "cell_type": "code",
   "execution_count": null,
   "id": "bc204b7c-5da6-4f81-9fb5-30c908b0cd93",
   "metadata": {},
   "outputs": [],
   "source": []
  }
 ],
 "metadata": {
  "kernelspec": {
   "display_name": "Python 3 (ipykernel)",
   "language": "python",
   "name": "python3"
  },
  "language_info": {
   "codemirror_mode": {
    "name": "ipython",
    "version": 3
   },
   "file_extension": ".py",
   "mimetype": "text/x-python",
   "name": "python",
   "nbconvert_exporter": "python",
   "pygments_lexer": "ipython3",
   "version": "3.8.12"
  }
 },
 "nbformat": 4,
 "nbformat_minor": 5
}
