{
 "cells": [
  {
   "cell_type": "markdown",
   "id": "60d2343f-eb5d-4ccd-ae63-ff7a6b92470f",
   "metadata": {
    "tags": []
   },
   "source": [
    "# 311 Calls per NC\n",
    "\n",
    "Simple idioms I use to display with ipyleaflet.\n",
    "\n",
    "In this notebook we'll use one of the attributes of the 311 data (nc) to focus on the map.\n",
    "\n",
    "Steps:\n",
    "\n",
    "1.  Initial imports\n",
    "2.  Read data\n",
    "3.  Explore the data\n",
    "4.  Pick an nc and build map layers\n",
    "5.  Render on the map"
   ]
  },
  {
   "cell_type": "markdown",
   "id": "99effd45-78a4-4103-b24a-6a9e521711b3",
   "metadata": {},
   "source": [
    "# 1. Setup\n",
    "\n",
    "I'm assuming you have an environment ala the environment.yml file.  \n",
    "\n",
    "I have a startup script in the ~/.ipython/profile_default/startup directory.  I've copied it to this folder so you can run it for the same effect.\n",
    "\n",
    "**Note:** I'm importing the utility function read_new311_shape to read the preproccessed 311 data and map the column names/types."
   ]
  },
  {
   "cell_type": "code",
   "execution_count": null,
   "id": "92ecc335-3d84-4ef4-828c-19cb29ad3a30",
   "metadata": {
    "tags": []
   },
   "outputs": [],
   "source": [
    "%run start.py\n",
    "import nc\n",
    "\n",
    "from utils import read_new311_shape"
   ]
  },
  {
   "cell_type": "markdown",
   "id": "6a45b916-d384-44d3-b5e4-e3da8a87d274",
   "metadata": {},
   "source": [
    "# 2. Get the Data"
   ]
  },
  {
   "cell_type": "code",
   "execution_count": null,
   "id": "3614f22a-4399-41f4-baff-c3b510494f6a",
   "metadata": {
    "tags": []
   },
   "outputs": [],
   "source": [
    "%%time\n",
    "new311_gdf = read_new311_shape('../data/311/clean311.geojson.zip')"
   ]
  },
  {
   "cell_type": "code",
   "execution_count": null,
   "id": "ab4807fd-f03f-4d0a-9ed3-82307173a631",
   "metadata": {
    "tags": []
   },
   "outputs": [],
   "source": [
    "ncs_gdf = gpd.read_file('../data/neighborhoods/Neighborhood_Councils_(Certified)_cleaned.shp')"
   ]
  },
  {
   "cell_type": "code",
   "execution_count": null,
   "id": "7147f3de-5113-491d-b0d3-81364c6db43f",
   "metadata": {},
   "outputs": [],
   "source": [
    "ncs_gdf.rename(columns={'NAME': 'name',\n",
    "                        'NC_ID': 'nc_id',\n",
    "                        'SERVICE_RE': 'service_region'},\n",
    "              inplace=True);"
   ]
  },
  {
   "cell_type": "markdown",
   "id": "d80bee82-9c3f-4b9a-93f9-8b0468092029",
   "metadata": {},
   "source": [
    "# 3. Examine the Data"
   ]
  },
  {
   "cell_type": "code",
   "execution_count": null,
   "id": "a98325ea-dbf7-4dfc-b512-23cfbf441184",
   "metadata": {},
   "outputs": [],
   "source": [
    "new311_gdf.columns"
   ]
  },
  {
   "cell_type": "code",
   "execution_count": null,
   "id": "17c16bcb-2042-4f00-81c3-391fb6e3e712",
   "metadata": {},
   "outputs": [],
   "source": [
    "new311_gdf.info()"
   ]
  },
  {
   "cell_type": "code",
   "execution_count": null,
   "id": "43c21ef5-9a88-44b3-81c4-fe2d22c69891",
   "metadata": {},
   "outputs": [],
   "source": [
    "new311_gdf.request_type.value_counts()"
   ]
  },
  {
   "cell_type": "code",
   "execution_count": null,
   "id": "1f81b011-d022-4b39-9542-a6208c2f43fc",
   "metadata": {
    "tags": []
   },
   "outputs": [],
   "source": [
    "new311_gdf.nc_name.value_counts().to_frame().head().rename(columns={'nc_name': 'count'})"
   ]
  },
  {
   "cell_type": "markdown",
   "id": "2d76f2e8-4b4d-432b-9da5-88da8ebba6f3",
   "metadata": {},
   "source": []
  },
  {
   "cell_type": "code",
   "execution_count": null,
   "id": "547dea90-0b01-4a39-b9b4-e919b24c8b48",
   "metadata": {},
   "outputs": [],
   "source": [
    "new311_gdf.columns"
   ]
  },
  {
   "cell_type": "code",
   "execution_count": null,
   "id": "286e1833-fa25-4f81-b6b5-62a7cd3f38fc",
   "metadata": {},
   "outputs": [],
   "source": [
    "new311_gdf.head()"
   ]
  },
  {
   "cell_type": "markdown",
   "id": "7d04640f-f39b-4e4a-8707-605ec76ad007",
   "metadata": {},
   "source": [
    "# 4 - Select NC and Build Map Layers\n",
    "\n",
    "After some digging I'm going with Little Tokyo (nc == 46).  Not a lot of points so the map will perform.\n",
    "\n",
    "(12/29/2021) - Not sure yet if ipyleaflet is the way to go?  "
   ]
  },
  {
   "cell_type": "code",
   "execution_count": null,
   "id": "4a85eade-64c5-4653-9459-96d4450ceadd",
   "metadata": {},
   "outputs": [],
   "source": [
    "small_gdf = new311_gdf.query(f\"nc == 46\", engine='python').reset_index().drop(columns=['index'])\n",
    "#small_gdf = new311_gdf.query(f\"nc == 79\").reset_index().drop(columns=['index'])"
   ]
  },
  {
   "cell_type": "code",
   "execution_count": null,
   "id": "5706850e-825d-4da3-8528-674b8f7e2e95",
   "metadata": {},
   "outputs": [],
   "source": [
    "small_gdf.request_type.value_counts()"
   ]
  },
  {
   "cell_type": "markdown",
   "id": "26a58124-c2df-490b-8af0-e28ae59c38d7",
   "metadata": {},
   "source": [
    "In keeping with our basic theme, it's predominately Graffiti Removal (FWTW)."
   ]
  },
  {
   "cell_type": "code",
   "execution_count": null,
   "id": "6193e748-e819-4918-9950-87faf04a1cdc",
   "metadata": {},
   "outputs": [],
   "source": [
    "small_gdf.created_dt.min()"
   ]
  },
  {
   "cell_type": "code",
   "execution_count": null,
   "id": "363b958f-2ec8-40c3-9dce-4adb1f7ca5a9",
   "metadata": {},
   "outputs": [],
   "source": [
    "small_gdf.created_dt.max()"
   ]
  },
  {
   "cell_type": "code",
   "execution_count": null,
   "id": "bcf4adcd-ae20-4cae-a151-61243e3be819",
   "metadata": {},
   "outputs": [],
   "source": [
    "(_ - __).days / 7"
   ]
  },
  {
   "cell_type": "markdown",
   "id": "020b47da-0f83-4487-8c2b-a9b2c041cf76",
   "metadata": {},
   "source": [
    "You can see this is from a dataset pull in early December.  It's 47 weeks worth of requests.\n",
    "\n",
    "When I get to the timeline viz that will help."
   ]
  },
  {
   "cell_type": "markdown",
   "id": "26e92436-3a04-40e6-86ff-21f7be6430ab",
   "metadata": {},
   "source": [
    "Pretty simple hack to build a color map for request types.  I found these colors on H4LA github so maybe they'll be close to colors on the 311-data.org?"
   ]
  },
  {
   "cell_type": "code",
   "execution_count": null,
   "id": "19d8f621-0b36-401b-a089-2be84220dda9",
   "metadata": {},
   "outputs": [],
   "source": [
    "keys = new311_gdf.request_type.value_counts().keys().to_list()\n",
    "\n",
    "vals = [\n",
    "    '#267370',\n",
    "    '#8B508B',\n",
    "    '#EDAD08',\n",
    "    '#1D6996',\n",
    "    '#11975F',\n",
    "    '#E17C05',\n",
    "    '#685DB1',\n",
    "    '#AE3D51',\n",
    "    '#79B74E',\n",
    "    '#BF82BA',\n",
    "    '#D05F4E',\n",
    "    '#33BBEE'\n",
    "]\n",
    "\n",
    "c_map = {kv[0]: kv[1] for kv in zip(keys, vals)}\n",
    "\n",
    "c_map"
   ]
  },
  {
   "cell_type": "markdown",
   "id": "a2d0bf10-9f74-4ac0-aa65-36841d850d85",
   "metadata": {},
   "source": [
    "This is one of my very first idioms for markers and ipyleaflet maps.  I should rework this, but later.\n",
    "\n",
    "Note: I'm using the MarkerCluster widget.  It's somewhat better with large volume of markers and scrolling on the map."
   ]
  },
  {
   "cell_type": "code",
   "execution_count": null,
   "id": "c446c008-8062-4b25-a1e3-ee95279dc764",
   "metadata": {},
   "outputs": [],
   "source": [
    "markers = list()\n",
    "\n",
    "for i, row in tqdm(small_gdf.iterrows()):\n",
    "    \n",
    "    fill_color = c_map[row.request_type]\n",
    "    marker = CircleMarker(location=(row.geometry.y, row.geometry.x), radius=5, stroke=False, fill_color=fill_color, fill_opacity=1.0)\n",
    "    msg = HTML()\n",
    "    msg.value = \"report: {}<br>Address: {}</br>when: {}<br/>type: {}\".format(row['SRNumber'], \n",
    "                                                              row['address'],\n",
    "                                                            row['created_dt'].strftime(\"%m/%d/%Y, %H:%M\"),\n",
    "                                                            row['request_type']) #\"status: {}<br/>coord: {}\".format(r['status'], r['coordinates'])\n",
    "    marker.popup = msg\n",
    "    markers.append(marker)\n",
    "    small_gdf.loc[i, 'marker'] = marker\n",
    "\n",
    "little_tokyo_311_cluster = MarkerCluster(markers=markers, name='311 Calls - Clustered')\n"
   ]
  },
  {
   "cell_type": "markdown",
   "id": "4dbbebdd-65b1-49c4-b4ed-fd0adccb6118",
   "metadata": {},
   "source": [
    "# 5 - Display the Map\n",
    "\n",
    "The last step in our map display adventure.\n",
    "\n",
    "I will add 3 layers:\n",
    "\n",
    "1. Little Tokyo NC polygon\n",
    "2. The MarkerCluster markers\n",
    "3. All the markers.\n",
    "\n",
    "You can select/deselect the layers to see.\n",
    "\n",
    "Note: I have 4 base layers too.  Give some flexiblity on the map/viz."
   ]
  },
  {
   "cell_type": "markdown",
   "id": "551b6c89-be80-4989-acd4-17369e054264",
   "metadata": {},
   "source": [
    "Find the map center from the neighborhood council polygon."
   ]
  },
  {
   "cell_type": "code",
   "execution_count": null,
   "id": "94a22bac-10f5-4fe1-bee0-506b7097f660",
   "metadata": {},
   "outputs": [],
   "source": [
    "#ncs_gdf.to_crs(epsg=4326, inplace=True)\n",
    "little_tokyo_gdf = ncs_gdf.query(f\"nc_id == 46\", engine='python').reset_index()\n",
    "\n",
    "center = little_tokyo_gdf.iloc[0].geometry.centroid.y, little_tokyo_gdf.iloc[0].geometry.centroid.x"
   ]
  },
  {
   "cell_type": "code",
   "execution_count": null,
   "id": "9c644c0b-4173-4717-b68c-ad1ae7d089be",
   "metadata": {},
   "outputs": [],
   "source": [
    "nc_layer = GeoData(geo_dataframe = little_tokyo_gdf,\n",
    "                   style={'color': 'black', 'fillColor': '#3366cc', 'opacity':0.8, 'weight':1.9, 'dashArray':'5', 'fillOpacity':0.2},\n",
    "                   hover_style={'fillColor': 'red' , 'fillOpacity': 0.2},\n",
    "                   name = 'Little Tokyo NC')"
   ]
  },
  {
   "cell_type": "code",
   "execution_count": null,
   "id": "d8745778-e6ee-40e7-baa9-78df1a23593c",
   "metadata": {},
   "outputs": [],
   "source": [
    "imagery = basemap_to_tiles(basemaps.Esri.WorldImagery)\n",
    "imagery.base = True\n",
    "osm = basemap_to_tiles(basemaps.OpenStreetMap.Mapnik)\n",
    "osm.base = True\n",
    "\n",
    "from ipyleaflet import TileLayer\n",
    "google_map = TileLayer(\n",
    "    url=\"https://mt1.google.com/vt/lyrs=m&x={x}&y={y}&z={z}\",\n",
    "    attribution=\"Google\",\n",
    "    name=\"Google Maps\",\n",
    ")\n",
    "google_map.base = True\n",
    "\n",
    "google_satellite = TileLayer(\n",
    "    url=\"https://mt1.google.com/vt/lyrs=y&x={x}&y={y}&z={z}\",\n",
    "    attribution=\"Google\",\n",
    "    name=\"Google Satellite\"\n",
    ")\n",
    "google_satellite.base = True\n",
    "\n",
    "map_display = Map(center=center, zoom=15,\n",
    "                  layers=[google_satellite, google_map, imagery, osm],\n",
    "                  layout=Layout(height=\"700px\"),\n",
    "                  scroll_wheel_zoom=True)\n",
    "\n",
    "map_display.add_control(LayersControl())\n",
    "\n",
    "#map_display.add_layer(geo_data)\n",
    "map_display += nc_layer\n",
    "map_display.add_layer(little_tokyo_311_cluster)\n",
    "\n",
    "all_311 = LayerGroup(name=f\"All 311\", layers=markers)\n",
    "map_display += all_311\n",
    "map_display"
   ]
  },
  {
   "cell_type": "markdown",
   "id": "b1f03302-48d4-4392-bcc0-2124896ba3cd",
   "metadata": {},
   "source": [
    "So that is all for now.  I really want to add a timeslider with brushes for crossfiltering.\n",
    "\n",
    "After much research I may have found the best way to do it, but that is for another day!"
   ]
  },
  {
   "cell_type": "code",
   "execution_count": null,
   "id": "f878dcbd-9be4-4d76-83fd-13c22efb655b",
   "metadata": {},
   "outputs": [],
   "source": []
  }
 ],
 "metadata": {
  "kernelspec": {
   "display_name": "Python 3 (ipykernel)",
   "language": "python",
   "name": "python3"
  },
  "language_info": {
   "codemirror_mode": {
    "name": "ipython",
    "version": 3
   },
   "file_extension": ".py",
   "mimetype": "text/x-python",
   "name": "python",
   "nbconvert_exporter": "python",
   "pygments_lexer": "ipython3",
   "version": "3.9.9"
  }
 },
 "nbformat": 4,
 "nbformat_minor": 5
}
