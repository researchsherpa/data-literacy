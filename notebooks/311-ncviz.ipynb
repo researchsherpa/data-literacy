{
 "cells": [
  {
   "cell_type": "markdown",
   "id": "60d2343f-eb5d-4ccd-ae63-ff7a6b92470f",
   "metadata": {
    "tags": []
   },
   "source": [
    "# 311 Calls per NC\n",
    "\n",
    "Simple idioms I use to display with ipyleaflet.\n",
    "\n",
    "In this notebook we'll use one of the attributes of the 311 data (nc) to focus on the map.\n",
    "\n",
    "Steps:\n",
    "\n",
    "1.  Initial imports\n",
    "2.  Read data\n",
    "3.  Explore the data\n",
    "4.  Pick an nc to view\n",
    "5.  Build the layers\n",
    "6.  Render on the map"
   ]
  },
  {
   "cell_type": "markdown",
   "id": "99effd45-78a4-4103-b24a-6a9e521711b3",
   "metadata": {},
   "source": [
    "# 1. Setup\n",
    "\n",
    "I'm assuming you have an environment ala the environment.yml file.  \n",
    "\n",
    "I have a startup script in the ~/.ipython/profile_default/startup directory.  I've copied it to this folder so you can run it for the same effect.\n",
    "\n",
    "**Note:** I'm importing the utility function read_new311_shape to read the preproccessed 311 data and map the column names/types."
   ]
  },
  {
   "cell_type": "code",
   "execution_count": 1,
   "id": "92ecc335-3d84-4ef4-828c-19cb29ad3a30",
   "metadata": {
    "tags": []
   },
   "outputs": [],
   "source": [
    "%run start.py\n",
    "import nc\n",
    "\n",
    "from utils import read_new311_shape"
   ]
  },
  {
   "cell_type": "markdown",
   "id": "6a45b916-d384-44d3-b5e4-e3da8a87d274",
   "metadata": {},
   "source": [
    "# 2. Get the Data"
   ]
  },
  {
   "cell_type": "code",
   "execution_count": 2,
   "id": "3614f22a-4399-41f4-baff-c3b510494f6a",
   "metadata": {
    "tags": []
   },
   "outputs": [
    {
     "name": "stdout",
     "output_type": "stream",
     "text": [
      "CPU times: user 1min 33s, sys: 2.36 s, total: 1min 35s\n",
      "Wall time: 1min 35s\n"
     ]
    }
   ],
   "source": [
    "%%time\n",
    "new311_gdf = read_new311_shape('../data/311/new311-shape.zip')"
   ]
  },
  {
   "cell_type": "code",
   "execution_count": 3,
   "id": "ab4807fd-f03f-4d0a-9ed3-82307173a631",
   "metadata": {
    "tags": []
   },
   "outputs": [],
   "source": [
    "ncs_gdf = gpd.read_file('../data/neighborhoods/Neighborhood_Councils_(Certified)_cleaned.zip/')"
   ]
  },
  {
   "cell_type": "code",
   "execution_count": 4,
   "id": "7147f3de-5113-491d-b0d3-81364c6db43f",
   "metadata": {},
   "outputs": [],
   "source": [
    "ncs_gdf.rename(columns={'NAME': 'name',\n",
    "                        'NC_ID': 'nc_id',\n",
    "                        'SERVICE_RE': 'service_region'},\n",
    "              inplace=True);"
   ]
  },
  {
   "cell_type": "markdown",
   "id": "d80bee82-9c3f-4b9a-93f9-8b0468092029",
   "metadata": {},
   "source": [
    "# 3. Examine the Data"
   ]
  },
  {
   "cell_type": "code",
   "execution_count": 5,
   "id": "a98325ea-dbf7-4dfc-b512-23cfbf441184",
   "metadata": {},
   "outputs": [
    {
     "data": {
      "text/plain": [
       "Index(['SRNumber', 'created_dt', 'updated_dt', 'owner', 'request_type',\n",
       "       'service_dt', 'closed_dt', 'address', 'street', 'zip_code', 'latitude',\n",
       "       'longitude', 'location', 'APC', 'cd', 'cd_member', 'nc', 'nc_name',\n",
       "       'precinct', 'days_to_service', 'days_to_close', 'days_to_update',\n",
       "       'geometry'],\n",
       "      dtype='object')"
      ]
     },
     "execution_count": 5,
     "metadata": {},
     "output_type": "execute_result"
    }
   ],
   "source": [
    "new311_gdf.columns"
   ]
  },
  {
   "cell_type": "code",
   "execution_count": 6,
   "id": "43c21ef5-9a88-44b3-81c4-fe2d22c69891",
   "metadata": {},
   "outputs": [
    {
     "data": {
      "text/plain": [
       "Bulky Items                   629583\n",
       "Graffiti Removal              315577\n",
       "Metal/Household Appliances    114004\n",
       "Illegal Dumping Pickup        106324\n",
       "Homeless Encampment            43250\n",
       "Electronic Waste               37464\n",
       "Other                          25430\n",
       "Dead Animal Removal            23298\n",
       "Single Streetlight Issue       10678\n",
       "Multiple Streetlight Issue      8544\n",
       "Report Water Waste              1558\n",
       "Feedback                         270\n",
       "Name: request_type, dtype: int64"
      ]
     },
     "execution_count": 6,
     "metadata": {},
     "output_type": "execute_result"
    }
   ],
   "source": [
    "new311_gdf.request_type.value_counts()"
   ]
  },
  {
   "cell_type": "code",
   "execution_count": 7,
   "id": "1f81b011-d022-4b39-9542-a6208c2f43fc",
   "metadata": {
    "tags": []
   },
   "outputs": [
    {
     "data": {
      "text/html": [
       "<div>\n",
       "<style scoped>\n",
       "    .dataframe tbody tr th:only-of-type {\n",
       "        vertical-align: middle;\n",
       "    }\n",
       "\n",
       "    .dataframe tbody tr th {\n",
       "        vertical-align: top;\n",
       "    }\n",
       "\n",
       "    .dataframe thead th {\n",
       "        text-align: right;\n",
       "    }\n",
       "</style>\n",
       "<table border=\"1\" class=\"dataframe\">\n",
       "  <thead>\n",
       "    <tr style=\"text-align: right;\">\n",
       "      <th></th>\n",
       "      <th>nc_name</th>\n",
       "    </tr>\n",
       "  </thead>\n",
       "  <tbody>\n",
       "    <tr>\n",
       "      <th>South Central</th>\n",
       "      <td>39367</td>\n",
       "    </tr>\n",
       "    <tr>\n",
       "      <th>Boyle Heights</th>\n",
       "      <td>37591</td>\n",
       "    </tr>\n",
       "    <tr>\n",
       "      <th>Empowerment Congress Southeast</th>\n",
       "      <td>33647</td>\n",
       "    </tr>\n",
       "    <tr>\n",
       "      <th>Sylmar</th>\n",
       "      <td>29301</td>\n",
       "    </tr>\n",
       "    <tr>\n",
       "      <th>Wilshire Center Koreatown</th>\n",
       "      <td>26422</td>\n",
       "    </tr>\n",
       "  </tbody>\n",
       "</table>\n",
       "</div>"
      ],
      "text/plain": [
       "                                nc_name\n",
       "South Central                     39367\n",
       "Boyle Heights                     37591\n",
       "Empowerment Congress Southeast    33647\n",
       "Sylmar                            29301\n",
       "Wilshire Center Koreatown         26422"
      ]
     },
     "execution_count": 7,
     "metadata": {},
     "output_type": "execute_result"
    }
   ],
   "source": [
    "new311_gdf.nc_name.value_counts().to_frame().head()"
   ]
  },
  {
   "cell_type": "code",
   "execution_count": 8,
   "id": "4a85eade-64c5-4653-9459-96d4450ceadd",
   "metadata": {},
   "outputs": [],
   "source": [
    "small_gdf = new311_gdf.query(f\"nc == 46\").reset_index().drop(columns=['index'])\n",
    "#small_gdf = new311_gdf.query(f\"nc == 79\").reset_index().drop(columns=['index'])"
   ]
  },
  {
   "cell_type": "code",
   "execution_count": 9,
   "id": "5706850e-825d-4da3-8528-674b8f7e2e95",
   "metadata": {},
   "outputs": [
    {
     "data": {
      "text/plain": [
       "Graffiti Removal              1156\n",
       "Bulky Items                    248\n",
       "Homeless Encampment            133\n",
       "Other                           62\n",
       "Illegal Dumping Pickup          55\n",
       "Metal/Household Appliances      45\n",
       "Dead Animal Removal             23\n",
       "Multiple Streetlight Issue      14\n",
       "Electronic Waste                11\n",
       "Single Streetlight Issue        11\n",
       "Feedback                         2\n",
       "Name: request_type, dtype: int64"
      ]
     },
     "execution_count": 9,
     "metadata": {},
     "output_type": "execute_result"
    }
   ],
   "source": [
    "small_gdf.request_type.value_counts()"
   ]
  },
  {
   "cell_type": "code",
   "execution_count": 10,
   "id": "6193e748-e819-4918-9950-87faf04a1cdc",
   "metadata": {},
   "outputs": [
    {
     "data": {
      "text/plain": [
       "Timestamp('2021-01-01 07:47:18')"
      ]
     },
     "execution_count": 10,
     "metadata": {},
     "output_type": "execute_result"
    }
   ],
   "source": [
    "small_gdf.created_dt.min()"
   ]
  },
  {
   "cell_type": "code",
   "execution_count": 11,
   "id": "363b958f-2ec8-40c3-9dce-4adb1f7ca5a9",
   "metadata": {},
   "outputs": [
    {
     "data": {
      "text/plain": [
       "Timestamp('2021-11-19 13:13:37')"
      ]
     },
     "execution_count": 11,
     "metadata": {},
     "output_type": "execute_result"
    }
   ],
   "source": [
    "small_gdf.created_dt.max()"
   ]
  },
  {
   "cell_type": "code",
   "execution_count": 12,
   "id": "bcf4adcd-ae20-4cae-a151-61243e3be819",
   "metadata": {},
   "outputs": [
    {
     "data": {
      "text/plain": [
       "46.0"
      ]
     },
     "execution_count": 12,
     "metadata": {},
     "output_type": "execute_result"
    }
   ],
   "source": [
    "(_ - __).days / 7"
   ]
  },
  {
   "cell_type": "code",
   "execution_count": null,
   "id": "98942654-4215-4403-99f7-fb31dcb10629",
   "metadata": {},
   "outputs": [],
   "source": []
  },
  {
   "cell_type": "code",
   "execution_count": 13,
   "id": "19d8f621-0b36-401b-a089-2be84220dda9",
   "metadata": {},
   "outputs": [
    {
     "data": {
      "text/plain": [
       "{'Bulky Items': '#267370',\n",
       " 'Graffiti Removal': '#8B508B',\n",
       " 'Metal/Household Appliances': '#EDAD08',\n",
       " 'Illegal Dumping Pickup': '#1D6996',\n",
       " 'Homeless Encampment': '#11975F',\n",
       " 'Electronic Waste': '#E17C05',\n",
       " 'Other': '#685DB1',\n",
       " 'Dead Animal Removal': '#AE3D51',\n",
       " 'Single Streetlight Issue': '#79B74E',\n",
       " 'Multiple Streetlight Issue': '#BF82BA',\n",
       " 'Report Water Waste': '#D05F4E',\n",
       " 'Feedback': '#33BBEE'}"
      ]
     },
     "execution_count": 13,
     "metadata": {},
     "output_type": "execute_result"
    }
   ],
   "source": [
    "keys = new311_gdf.request_type.value_counts().keys().to_list()\n",
    "\n",
    "vals = [\n",
    "    '#267370',\n",
    "    '#8B508B',\n",
    "    '#EDAD08',\n",
    "    '#1D6996',\n",
    "    '#11975F',\n",
    "    '#E17C05',\n",
    "    '#685DB1',\n",
    "    '#AE3D51',\n",
    "    '#79B74E',\n",
    "    '#BF82BA',\n",
    "    '#D05F4E',\n",
    "    '#33BBEE'\n",
    "]\n",
    "\n",
    "c_map = {kv[0]: kv[1] for kv in zip(keys, vals)}\n",
    "\n",
    "c_map"
   ]
  },
  {
   "cell_type": "code",
   "execution_count": null,
   "id": "4824cd32-2a08-4cce-a2a9-91bdf8792b1b",
   "metadata": {},
   "outputs": [],
   "source": []
  },
  {
   "cell_type": "code",
   "execution_count": 14,
   "id": "c446c008-8062-4b25-a1e3-ee95279dc764",
   "metadata": {},
   "outputs": [
    {
     "name": "stderr",
     "output_type": "stream",
     "text": [
      "1760it [00:10, 172.69it/s]\n"
     ]
    }
   ],
   "source": [
    "markers = list()\n",
    "\n",
    "for i, row in tqdm(small_gdf.iterrows()):\n",
    "    \n",
    "    fill_color = c_map[row.request_type]\n",
    "    marker = CircleMarker(location=(row.geometry.y, row.geometry.x), radius=5, stroke=False, fill_color=fill_color, fill_opacity=1.0)\n",
    "    msg = HTML()\n",
    "    msg.value = \"report: {}<br>Address: {}</br>when: {}<br/>type: {}\".format(row['SRNumber'], \n",
    "                                                              row['address'],\n",
    "                                                            row['created_dt'].strftime(\"%m/%d/%Y, %H:%M\"),\n",
    "                                                            row['request_type']) #\"status: {}<br/>coord: {}\".format(r['status'], r['coordinates'])\n",
    "    marker.popup = msg\n",
    "    markers.append(marker)\n",
    "    small_gdf.loc[i, 'marker'] = marker\n",
    "\n",
    "little_tokyo_311_cluster = MarkerCluster(markers=markers, name='311 Calls')\n"
   ]
  },
  {
   "cell_type": "code",
   "execution_count": 15,
   "id": "ee8d87dc-9b15-4c76-b902-2662dd405d3a",
   "metadata": {},
   "outputs": [],
   "source": [
    "#ncs_gdf.to_crs(epsg=4326, inplace=True)\n",
    "little_tokyo_gdf = ncs_gdf.query(f\"nc_id == 46\").reset_index()"
   ]
  },
  {
   "cell_type": "code",
   "execution_count": 16,
   "id": "a318d23f-0555-4083-a68c-0eeea5899424",
   "metadata": {},
   "outputs": [],
   "source": [
    "center = little_tokyo_gdf.iloc[0].geometry.centroid.y, little_tokyo_gdf.iloc[0].geometry.centroid.x"
   ]
  },
  {
   "cell_type": "code",
   "execution_count": 17,
   "id": "9c644c0b-4173-4717-b68c-ad1ae7d089be",
   "metadata": {},
   "outputs": [],
   "source": [
    "nc_layer = GeoData(geo_dataframe = little_tokyo_gdf,\n",
    "                   style={'color': 'black', 'fillColor': '#3366cc', 'opacity':0.8, 'weight':1.9, 'dashArray':'5', 'fillOpacity':0.2},\n",
    "                   hover_style={'fillColor': 'red' , 'fillOpacity': 0.2},\n",
    "                   name = 'Little Tokyo NC')"
   ]
  },
  {
   "cell_type": "code",
   "execution_count": 18,
   "id": "d8745778-e6ee-40e7-baa9-78df1a23593c",
   "metadata": {},
   "outputs": [
    {
     "data": {
      "application/vnd.jupyter.widget-view+json": {
       "model_id": "d878f75a89454a58bee8b40292d95902",
       "version_major": 2,
       "version_minor": 0
      },
      "text/plain": [
       "Map(center=[34.04480040479194, -118.2349337043463], controls=(ZoomControl(options=['position', 'zoom_in_text',…"
      ]
     },
     "metadata": {},
     "output_type": "display_data"
    }
   ],
   "source": [
    "imagery = basemap_to_tiles(basemaps.Esri.WorldImagery)\n",
    "imagery.base = True\n",
    "osm = basemap_to_tiles(basemaps.OpenStreetMap.Mapnik)\n",
    "osm.base = True\n",
    "\n",
    "from ipyleaflet import TileLayer\n",
    "google_map = TileLayer(\n",
    "    url=\"https://mt1.google.com/vt/lyrs=m&x={x}&y={y}&z={z}\",\n",
    "    attribution=\"Google\",\n",
    "    name=\"Google Maps\",\n",
    ")\n",
    "google_map.base = True\n",
    "\n",
    "google_satellite = TileLayer(\n",
    "    url=\"https://mt1.google.com/vt/lyrs=y&x={x}&y={y}&z={z}\",\n",
    "    attribution=\"Google\",\n",
    "    name=\"Google Satellite\"\n",
    ")\n",
    "google_satellite.base = True\n",
    "\n",
    "map_display = Map(center=center, zoom=15,\n",
    "                  layers=[google_satellite, google_map, imagery, osm],\n",
    "                  layout=Layout(height=\"700px\"),\n",
    "                  scroll_wheel_zoom=True)\n",
    "\n",
    "map_display.add_control(LayersControl())\n",
    "\n",
    "#map_display.add_layer(geo_data)\n",
    "map_display += nc_layer\n",
    "map_display.add_layer(little_tokyo_311_cluster)\n",
    "\n",
    "all_311 = LayerGroup(name=f\"All 311\", layers=markers)\n",
    "map_display += all_311\n",
    "map_display"
   ]
  },
  {
   "cell_type": "code",
   "execution_count": null,
   "id": "b90d5cc5-1ad5-48ab-a1ea-0916d6dc8ffe",
   "metadata": {},
   "outputs": [],
   "source": []
  }
 ],
 "metadata": {
  "kernelspec": {
   "display_name": "Python 3 (ipykernel)",
   "language": "python",
   "name": "python3"
  },
  "language_info": {
   "codemirror_mode": {
    "name": "ipython",
    "version": 3
   },
   "file_extension": ".py",
   "mimetype": "text/x-python",
   "name": "python",
   "nbconvert_exporter": "python",
   "pygments_lexer": "ipython3",
   "version": "3.8.12"
  }
 },
 "nbformat": 4,
 "nbformat_minor": 5
}
