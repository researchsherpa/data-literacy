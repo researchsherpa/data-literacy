{
 "cells": [
  {
   "cell_type": "markdown",
   "id": "6569d80e-1af6-4bd7-ab8f-13846b39bc19",
   "metadata": {},
   "source": [
    "# Neighborhood Council Service Regions\n",
    "\n",
    "I looked at empowerla.org.  I decided to synchronize my data with what they have.\n",
    "\n",
    "Steps in this nb:\n",
    "\n",
    "  1.  Background from empowerla\n",
    "  2.  Read the NC data\n",
    "  3.  Display the NC's\n",
    "  4.  Display the service regions\n",
    "  5.  Fix the regions\n",
    "  6.  Save the clean data"
   ]
  },
  {
   "cell_type": "code",
   "execution_count": 2,
   "id": "43418e3e-4d3a-4765-b242-1063f3266881",
   "metadata": {
    "tags": []
   },
   "outputs": [
    {
     "name": "stdout",
     "output_type": "stream",
     "text": [
      "2021-11-29 17:28:02 Configured OSMnx 1.1.1\n",
      "2021-11-29 17:28:02 HTTP response caching is on\n"
     ]
    }
   ],
   "source": [
    "%run start.py\n",
    "\n",
    "import nc"
   ]
  },
  {
   "cell_type": "markdown",
   "id": "8e8e3765-e805-4a6b-930b-a6210a82857f",
   "metadata": {},
   "source": [
    "# 1 - Background"
   ]
  },
  {
   "cell_type": "code",
   "execution_count": 3,
   "id": "30f29529-f471-4c72-82d7-57e5f460a85d",
   "metadata": {
    "tags": []
   },
   "outputs": [
    {
     "data": {
      "text/html": [
       "\n",
       "        <iframe\n",
       "            width=\"1400\"\n",
       "            height=\"800\"\n",
       "            src=\"https://lahub.maps.arcgis.com/apps/instant/lookup/index.html?appid=e4ab1b3373914c7d99ade15d6f3b9f05\"\n",
       "            frameborder=\"0\"\n",
       "            allowfullscreen\n",
       "            \n",
       "        ></iframe>\n",
       "        "
      ],
      "text/plain": [
       "<IPython.lib.display.IFrame at 0x7f10d2845be0>"
      ]
     },
     "execution_count": 3,
     "metadata": {},
     "output_type": "execute_result"
    }
   ],
   "source": [
    "IFrame(\"https://lahub.maps.arcgis.com/apps/instant/lookup/index.html?appid=e4ab1b3373914c7d99ade15d6f3b9f05\", width=1400, height=800)"
   ]
  },
  {
   "cell_type": "code",
   "execution_count": 4,
   "id": "f396be70-1435-4bc8-91c8-87bac6989f37",
   "metadata": {},
   "outputs": [
    {
     "data": {
      "text/html": [
       "\n",
       "        <iframe\n",
       "            width=\"1400\"\n",
       "            height=\"800\"\n",
       "            src=\"https://empowerla.org/councils-by-service-region/\"\n",
       "            frameborder=\"0\"\n",
       "            allowfullscreen\n",
       "            \n",
       "        ></iframe>\n",
       "        "
      ],
      "text/plain": [
       "<IPython.lib.display.IFrame at 0x7f10d28457c0>"
      ]
     },
     "execution_count": 4,
     "metadata": {},
     "output_type": "execute_result"
    }
   ],
   "source": [
    "IFrame(\"https://empowerla.org/councils-by-service-region/\", width=1400, height=800)"
   ]
  },
  {
   "cell_type": "markdown",
   "id": "8db34275-cc14-4d69-851c-b433a714c0f1",
   "metadata": {},
   "source": [
    " Julien's debrief charts give us an idea of NC's particpating so far.\n",
    " \n",
    " <br><br>\n",
    " <div align=\"center\">\n",
    "    <img src=\"../img/debrief.png\" width=\"75%\" height=\"75%\">\n",
    " </div>"
   ]
  },
  {
   "cell_type": "markdown",
   "id": "02b38ada-740b-45a3-84f0-19522ac2a940",
   "metadata": {
    "tags": []
   },
   "source": [
    "# 2 - Neighborhood Council Data\n",
    "\n",
    "There seem to be multiple datasets with the NC polygons.  After some poking I found the certified shape file.  It includes a mapping of service regions to nc's."
   ]
  },
  {
   "cell_type": "code",
   "execution_count": 5,
   "id": "1c4f5b64-ad25-45c8-9c0a-72ec941f034f",
   "metadata": {
    "tags": []
   },
   "outputs": [],
   "source": [
    "neighborhoods_gdf = gpd.read_file('../data/neighborhoods/Neighborhood_Councils_(Certified).zip')"
   ]
  },
  {
   "cell_type": "markdown",
   "id": "c57caca3-afae-44d1-bed2-fb9d5a299a28",
   "metadata": {},
   "source": [
    "# 3 - Map Display\n",
    "\n",
    "Let's look at the NC's without adding the servcie regions.\n",
    "\n",
    "**Note** - Not sure why I don't add the region_id color_code at this point?"
   ]
  },
  {
   "cell_type": "code",
   "execution_count": 6,
   "id": "e088f4cf-9b69-4e2a-8de8-01d9e3129244",
   "metadata": {},
   "outputs": [],
   "source": [
    "nc_layer = GeoData(geo_dataframe = neighborhoods_gdf,\n",
    "                   style={'color': 'black', 'fillColor': '#3366cc', 'opacity':0.8, 'weight':1.9, 'dashArray':'5', 'fillOpacity':0.2},\n",
    "                   hover_style={'fillColor': 'red' , 'fillOpacity': 0.2},\n",
    "                   name = 'Neighborhood Council')\n",
    "\n",
    "#map_display.add_layer(geo_data)\n",
    "#map_display += nc_layer\n"
   ]
  },
  {
   "cell_type": "code",
   "execution_count": 7,
   "id": "a3968bcc-846c-447b-bbf4-5dc4bb4b3a76",
   "metadata": {
    "tags": []
   },
   "outputs": [],
   "source": [
    "neighborhoods_gdf['region_id'] = neighborhoods_gdf.apply(lambda row: row['SERVICE_RE'].split(' ')[1], axis=1)"
   ]
  },
  {
   "cell_type": "code",
   "execution_count": 8,
   "id": "94e570c2-ddf6-4a39-aea3-fe92095af744",
   "metadata": {},
   "outputs": [],
   "source": [
    "neighborhoods_gdf['color_code'] = neighborhoods_gdf.apply(lambda row: nc.empowerla_groups[int(row['region_id'])].color_code, axis=1)"
   ]
  },
  {
   "cell_type": "code",
   "execution_count": 9,
   "id": "d5351a52-60df-4843-a462-335939132585",
   "metadata": {},
   "outputs": [
    {
     "data": {
      "text/html": [
       "<div>\n",
       "<style scoped>\n",
       "    .dataframe tbody tr th:only-of-type {\n",
       "        vertical-align: middle;\n",
       "    }\n",
       "\n",
       "    .dataframe tbody tr th {\n",
       "        vertical-align: top;\n",
       "    }\n",
       "\n",
       "    .dataframe thead th {\n",
       "        text-align: right;\n",
       "    }\n",
       "</style>\n",
       "<table border=\"1\" class=\"dataframe\">\n",
       "  <thead>\n",
       "    <tr style=\"text-align: right;\">\n",
       "      <th></th>\n",
       "      <th>OBJECTID</th>\n",
       "      <th>NAME</th>\n",
       "      <th>WADDRESS</th>\n",
       "      <th>DWEBSITE</th>\n",
       "      <th>DEMAIL</th>\n",
       "      <th>DPHONE</th>\n",
       "      <th>NC_ID</th>\n",
       "      <th>CERTIFIED</th>\n",
       "      <th>TOOLTIP</th>\n",
       "      <th>NLA_URL</th>\n",
       "      <th>SERVICE_RE</th>\n",
       "      <th>geometry</th>\n",
       "      <th>region_id</th>\n",
       "      <th>color_code</th>\n",
       "    </tr>\n",
       "  </thead>\n",
       "  <tbody>\n",
       "    <tr>\n",
       "      <th>53</th>\n",
       "      <td>54</td>\n",
       "      <td>NORTH HILLS WEST NC</td>\n",
       "      <td>http://www.nhwnc.net/</td>\n",
       "      <td>http://empowerla.org/NHWNC</td>\n",
       "      <td>NHWNC@EmpowerLA.org</td>\n",
       "      <td>213-978-1551</td>\n",
       "      <td>111</td>\n",
       "      <td>2003-02-25</td>\n",
       "      <td>NORTH HILLS WEST NC</td>\n",
       "      <td>navigatela/reports/nc_reports.cfm?id=111</td>\n",
       "      <td>REGION 1 - NORTH EAST VALLEY</td>\n",
       "      <td>POLYGON ((-118.47235 34.25012, -118.47231 34.2...</td>\n",
       "      <td>1</td>\n",
       "      <td>#00BFFF</td>\n",
       "    </tr>\n",
       "  </tbody>\n",
       "</table>\n",
       "</div>"
      ],
      "text/plain": [
       "    OBJECTID                 NAME               WADDRESS  \\\n",
       "53        54  NORTH HILLS WEST NC  http://www.nhwnc.net/   \n",
       "\n",
       "                      DWEBSITE               DEMAIL        DPHONE  NC_ID  \\\n",
       "53  http://empowerla.org/NHWNC  NHWNC@EmpowerLA.org  213-978-1551    111   \n",
       "\n",
       "     CERTIFIED              TOOLTIP                                   NLA_URL  \\\n",
       "53  2003-02-25  NORTH HILLS WEST NC  navigatela/reports/nc_reports.cfm?id=111   \n",
       "\n",
       "                      SERVICE_RE  \\\n",
       "53  REGION 1 - NORTH EAST VALLEY   \n",
       "\n",
       "                                             geometry region_id color_code  \n",
       "53  POLYGON ((-118.47235 34.25012, -118.47231 34.2...         1    #00BFFF  "
      ]
     },
     "execution_count": 9,
     "metadata": {},
     "output_type": "execute_result"
    }
   ],
   "source": [
    "neighborhoods_gdf.query(f\"NC_ID == 111\")"
   ]
  },
  {
   "cell_type": "markdown",
   "id": "6f8c9c00-a66d-4d78-aab1-b45244ee6abf",
   "metadata": {},
   "source": [
    "Here's the map of the Neighborhood Councils"
   ]
  },
  {
   "cell_type": "code",
   "execution_count": 10,
   "id": "5444f465-adc9-4c0e-8630-9593887c5a29",
   "metadata": {
    "tags": []
   },
   "outputs": [
    {
     "data": {
      "application/vnd.jupyter.widget-view+json": {
       "model_id": "4e85f77c6f6149b3b52b15a30bf970e7",
       "version_major": 2,
       "version_minor": 0
      },
      "text/plain": [
       "Map(center=[34.05, -118.25], controls=(ZoomControl(options=['position', 'zoom_in_text', 'zoom_in_title', 'zoom…"
      ]
     },
     "metadata": {},
     "output_type": "display_data"
    }
   ],
   "source": [
    "imagery = basemap_to_tiles(basemaps.Esri.WorldImagery)\n",
    "imagery.base = True\n",
    "osm = basemap_to_tiles(basemaps.OpenStreetMap.Mapnik)\n",
    "osm.base = True\n",
    "\n",
    "\n",
    "map_display = Map(center=(34.05, -118.25), zoom=12,\n",
    "                  layers=[imagery, osm],\n",
    "                  layout=Layout(height=\"700px\"),\n",
    "                  scroll_wheel_zoom=True)\n",
    "\n",
    "map_display.add_control(LayersControl())\n",
    "map_display += nc_layer\n",
    "map_display"
   ]
  },
  {
   "cell_type": "markdown",
   "id": "e1a4544e-d6c1-4ae7-9b83-3fd3dc815be8",
   "metadata": {
    "tags": []
   },
   "source": [
    "# 4 - Display Service Regions\n",
    "\n",
    "**Note** This is the cell to execute after the \"fix\"."
   ]
  },
  {
   "cell_type": "code",
   "execution_count": 11,
   "id": "940a3928-47be-48cf-be59-ab19ef88d90f",
   "metadata": {},
   "outputs": [],
   "source": [
    "a_geojson = json.loads(neighborhoods_gdf.to_json())\n",
    "\n",
    "def region_color(feature):\n",
    "    return {\n",
    "        'color': 'black',\n",
    "        'fillColor': feature['properties']['color_code']\n",
    "    }\n",
    "\n",
    "geo_json = GeoJSON(\n",
    "    data=a_geojson,\n",
    "    style={\n",
    "        'opacity': 1, 'dashArray': '9', 'fillOpacity': 0.6, 'weight': 1\n",
    "    },\n",
    "    hover_style={\n",
    "        'color': 'white', 'dashArray': '0', 'fillOpacity': 0.5\n",
    "    },\n",
    "    style_callback=region_color,\n",
    "    name='Regions'\n",
    ")\n",
    "\n",
    "map_display.add_layer(geo_json)\n",
    "\n",
    "html = HTML('''Hover over a district''')\n",
    "html.layout.margin = '0px 20px 20px 20 px'\n",
    "control = WidgetControl(widget=html, position='bottomright')\n",
    "\n",
    "def update_html(feature, **kwargs):\n",
    "    html.value = '''<h3><b>NC: {}</b></h3>\n",
    "                    <h4>NC ID: {}</h4>\n",
    "                    <h4>region id: {}</h4>'''.format(feature['properties']['NAME'], \n",
    "                                                     feature['properties']['NC_ID'],\n",
    "                                                     feature['properties']['region_id'])\n",
    "    \n",
    "map_display.add_control(control)  # does += work for this?\n",
    "\n",
    "geo_json.on_hover(update_html)"
   ]
  },
  {
   "cell_type": "markdown",
   "id": "4f052cac-540b-4677-89b5-dde583b9a1cd",
   "metadata": {},
   "source": [
    "Go back and look at the map.  Compare it with the map from empowerla in the background section and you should see the problem."
   ]
  },
  {
   "cell_type": "markdown",
   "id": "d8ceb459-cbc3-43cf-bda2-90f5811f39da",
   "metadata": {},
   "source": [
    "# 5 - Fix and Display\n",
    "\n",
    "After some exploration we can see the problem.  This section resets the map then cleans up the gdf using the pythonic idiom to swap values."
   ]
  },
  {
   "cell_type": "code",
   "execution_count": null,
   "id": "685c3e26-bf60-4ee9-8890-2e62463a2c28",
   "metadata": {
    "tags": []
   },
   "outputs": [],
   "source": [
    "map_display.remove_layer(geo_json)\n",
    "map_display.remove_control(control)"
   ]
  },
  {
   "cell_type": "code",
   "execution_count": null,
   "id": "f3ff7df4-c9a7-4786-9e7f-edd72591770d",
   "metadata": {},
   "outputs": [],
   "source": [
    "neighborhoods_gdf.loc[52, 'SERVICE_RE'], neighborhoods_gdf.loc[53, 'SERVICE_RE'] = \\\n",
    "neighborhoods_gdf.loc[53, 'SERVICE_RE'], neighborhoods_gdf.loc[52, 'SERVICE_RE']\n",
    "\n",
    "neighborhoods_gdf['region_id'] = neighborhoods_gdf.apply(lambda row: row['SERVICE_RE'].split(' ')[1], axis=1)\n",
    "\n",
    "neighborhoods_gdf['color_code'] = neighborhoods_gdf.apply(lambda row: nc.empowerla_groups[int(row['region_id'])].color_code, axis=1)"
   ]
  },
  {
   "cell_type": "markdown",
   "id": "8924698d-2c40-4de5-9cdb-7570ba1bf9fc",
   "metadata": {},
   "source": [
    "Go back and execute the section 4 cell.  Once you do that go look at the map to display the updated service regions.\n",
    "\n",
    "Looks better!"
   ]
  },
  {
   "cell_type": "markdown",
   "id": "9068064b-af48-444f-8c68-aba14048e2e0",
   "metadata": {},
   "source": [
    "# 6 - Save Clean File"
   ]
  },
  {
   "cell_type": "code",
   "execution_count": null,
   "id": "04ef7c02-6a77-4580-b99f-7a2c7392d7dc",
   "metadata": {},
   "outputs": [],
   "source": [
    "neighborhoods_gdf.to_file('../data/neighborhoods/Neighborhood_Councils_(Certified)_cleaned.zip')"
   ]
  },
  {
   "cell_type": "markdown",
   "id": "b5726444-afc7-4868-ae20-b25d2b0cf99f",
   "metadata": {},
   "source": [
    "**Note** - now we have the cleaned NC shape file (as a zip)."
   ]
  },
  {
   "cell_type": "code",
   "execution_count": null,
   "id": "431e89c5-6861-4b7d-a79c-231f0da89585",
   "metadata": {},
   "outputs": [],
   "source": []
  }
 ],
 "metadata": {
  "kernelspec": {
   "display_name": "Python 3 (ipykernel)",
   "language": "python",
   "name": "python3"
  },
  "language_info": {
   "codemirror_mode": {
    "name": "ipython",
    "version": 3
   },
   "file_extension": ".py",
   "mimetype": "text/x-python",
   "name": "python",
   "nbconvert_exporter": "python",
   "pygments_lexer": "ipython3",
   "version": "3.8.12"
  }
 },
 "nbformat": 4,
 "nbformat_minor": 5
}
