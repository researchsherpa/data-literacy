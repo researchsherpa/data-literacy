{
 "cells": [
  {
   "cell_type": "markdown",
   "id": "edb7ec4e-4c4f-4e1e-b864-53d28d9060aa",
   "metadata": {},
   "source": [
    "# Request Type Analysis\n",
    "\n",
    "Look at the request type values from 311.  Questions to consider:\n",
    "\n",
    "  - Counts\n",
    "  - Spatial (NCs) distribution\n",
    "  - Time to complete\n",
    "  - Time to complete by service provider\n",
    "  - Spatial (service region) distribution?\n",
    "  - ...\n",
    "\n",
    "Steps in this notebook:\n",
    "\n",
    "1.  Setup\n",
    "2.  Create geodataframe/dataframe from cleaned data and [census](https://data.lacity.org/Community-Economic-Development/Census-Data-by-Neighborhood-Council/nwj3-ufba)\n",
    "3.  Examine the data\n",
    "4.  Compute the measure\n",
    "5.  Show measure as choropleth\n",
    "6.  So what (next steps)"
   ]
  },
  {
   "cell_type": "markdown",
   "id": "26d1bc47-3b56-4780-8645-728a1a6c433a",
   "metadata": {},
   "source": [
    "# 1 - Setup"
   ]
  },
  {
   "cell_type": "code",
   "execution_count": 1,
   "id": "43418e3e-4d3a-4765-b242-1063f3266881",
   "metadata": {
    "tags": []
   },
   "outputs": [
    {
     "name": "stdout",
     "output_type": "stream",
     "text": [
      "2021-11-29 19:39:10 Configured OSMnx 1.1.1\n",
      "2021-11-29 19:39:10 HTTP response caching is on\n"
     ]
    }
   ],
   "source": [
    "%run start.py\n",
    "from utils import read_new311_shape, dt_to_object"
   ]
  },
  {
   "cell_type": "markdown",
   "id": "4da1933f-7f7c-41c7-b786-135e2e6094d3",
   "metadata": {},
   "source": [
    "# 2 - Get Data Files\n",
    "\n",
    "Using two data files:\n",
    "\n",
    "  - The Certified Neighborhoods cleaned up in NC-service-regions.ipynb\n",
    "  - [Census](https://data.lacity.org/Community-Economic-Development/Census-Data-by-Neighborhood-Council/nwj3-ufba) data from data.lacity.org\n",
    "  \n",
    "**Note** - This is 2010 Census data.  Probably need to look for 2020."
   ]
  },
  {
   "cell_type": "code",
   "execution_count": 2,
   "id": "547b1fc6-e999-4768-8d95-833471889108",
   "metadata": {},
   "outputs": [
    {
     "name": "stdout",
     "output_type": "stream",
     "text": [
      "CPU times: user 28.7 s, sys: 1.21 s, total: 29.9 s\n",
      "Wall time: 30.3 s\n"
     ]
    }
   ],
   "source": [
    "%%time\n",
    "graffiti_gdf = read_new311_shape('../data/311/graffiti.zip/')"
   ]
  },
  {
   "cell_type": "code",
   "execution_count": 11,
   "id": "39286ffd-c8bf-4012-9857-6c38c319411d",
   "metadata": {},
   "outputs": [
    {
     "data": {
      "text/plain": [
       "Index(['SRNumber', 'created_dt', 'updated_dt', 'owner', 'request_type',\n",
       "       'service_dt', 'closed_dt', 'address', 'street', 'zip_code', 'latitude',\n",
       "       'longitude', 'location', 'APC', 'cd', 'cd_member', 'nc', 'nc_name',\n",
       "       'precinct', 'days_to_service', 'days_to_close', 'days_to_update',\n",
       "       'service_region', 'region_id', 'marker_color', 'popup_message',\n",
       "       'geometry'],\n",
       "      dtype='object')"
      ]
     },
     "execution_count": 11,
     "metadata": {},
     "output_type": "execute_result"
    }
   ],
   "source": [
    "graffiti_gdf.columns"
   ]
  },
  {
   "cell_type": "code",
   "execution_count": 25,
   "id": "d3d7dd54-e543-499f-a66d-e8cf3e32fc81",
   "metadata": {},
   "outputs": [
    {
     "data": {
      "text/plain": [
       "OCB    315577\n",
       "Name: owner, dtype: int64"
      ]
     },
     "execution_count": 25,
     "metadata": {},
     "output_type": "execute_result"
    }
   ],
   "source": [
    "graffiti_gdf['owner'].value_counts()"
   ]
  },
  {
   "cell_type": "code",
   "execution_count": 3,
   "id": "dd59152f-30ac-4192-b281-8b462164bd89",
   "metadata": {},
   "outputs": [],
   "source": [
    "neighborhoods_gdf = gpd.read_file('../data/neighborhoods/Neighborhood_Councils_(Certified)_cleaned.zip/')\n",
    "\n",
    "neighborhoods_gdf.rename(columns={'NAME': 'name',\n",
    "                        'NC_ID': 'nc_id',\n",
    "                        'SERVICE_RE': 'service_region'},\n",
    "              inplace=True);"
   ]
  },
  {
   "cell_type": "code",
   "execution_count": 4,
   "id": "478c4258-65fc-41e4-868b-626b397b56a5",
   "metadata": {},
   "outputs": [
    {
     "name": "stdout",
     "output_type": "stream",
     "text": [
      "<class 'geopandas.geodataframe.GeoDataFrame'>\n",
      "RangeIndex: 99 entries, 0 to 98\n",
      "Data columns (total 14 columns):\n",
      " #   Column          Non-Null Count  Dtype   \n",
      "---  ------          --------------  -----   \n",
      " 0   OBJECTID        99 non-null     int64   \n",
      " 1   name            99 non-null     object  \n",
      " 2   WADDRESS        99 non-null     object  \n",
      " 3   DWEBSITE        99 non-null     object  \n",
      " 4   DEMAIL          98 non-null     object  \n",
      " 5   DPHONE          99 non-null     object  \n",
      " 6   nc_id           99 non-null     int64   \n",
      " 7   CERTIFIED       99 non-null     object  \n",
      " 8   TOOLTIP         99 non-null     object  \n",
      " 9   NLA_URL         99 non-null     object  \n",
      " 10  service_region  99 non-null     object  \n",
      " 11  region_id       99 non-null     object  \n",
      " 12  color_code      99 non-null     object  \n",
      " 13  geometry        99 non-null     geometry\n",
      "dtypes: geometry(1), int64(2), object(11)\n",
      "memory usage: 11.0+ KB\n"
     ]
    }
   ],
   "source": [
    "neighborhoods_gdf.info()"
   ]
  },
  {
   "cell_type": "code",
   "execution_count": null,
   "id": "83ef7cd9-c71d-416f-be9b-83a98f1c0eb7",
   "metadata": {},
   "outputs": [],
   "source": []
  },
  {
   "cell_type": "markdown",
   "id": "7e90a651-2923-4109-8418-0292251c81e6",
   "metadata": {},
   "source": [
    "# 3 - Quick Looksie"
   ]
  },
  {
   "cell_type": "markdown",
   "id": "96ac15bd-33e6-4813-b27c-18962f5a90cf",
   "metadata": {},
   "source": [
    "Well, there's a discrepancy here.  The census data has 97 NC's and the certified dataset has 99 (I think the right number is 99).\n",
    "\n",
    "Not going to agonize over this at this stage but want to understand things.  Adjusting for what matches as this stage should be good enough for now."
   ]
  },
  {
   "cell_type": "code",
   "execution_count": 15,
   "id": "0847abc4-d61c-4094-8ad3-3dba2390b73c",
   "metadata": {},
   "outputs": [],
   "source": [
    "graffiti_counts = graffiti_gdf['nc'].value_counts().to_frame().reset_index().rename(columns={'index': 'nc_id', 'nc': 'count'})"
   ]
  },
  {
   "cell_type": "code",
   "execution_count": 16,
   "id": "410e5ca6-6b4f-491a-b1df-6178205cd45a",
   "metadata": {},
   "outputs": [
    {
     "data": {
      "text/html": [
       "<div>\n",
       "<style scoped>\n",
       "    .dataframe tbody tr th:only-of-type {\n",
       "        vertical-align: middle;\n",
       "    }\n",
       "\n",
       "    .dataframe tbody tr th {\n",
       "        vertical-align: top;\n",
       "    }\n",
       "\n",
       "    .dataframe thead th {\n",
       "        text-align: right;\n",
       "    }\n",
       "</style>\n",
       "<table border=\"1\" class=\"dataframe\">\n",
       "  <thead>\n",
       "    <tr style=\"text-align: right;\">\n",
       "      <th></th>\n",
       "      <th>nc_id</th>\n",
       "      <th>count</th>\n",
       "    </tr>\n",
       "  </thead>\n",
       "  <tbody>\n",
       "    <tr>\n",
       "      <th>0</th>\n",
       "      <td>78</td>\n",
       "      <td>26836</td>\n",
       "    </tr>\n",
       "    <tr>\n",
       "      <th>1</th>\n",
       "      <td>50</td>\n",
       "      <td>18197</td>\n",
       "    </tr>\n",
       "    <tr>\n",
       "      <th>2</th>\n",
       "      <td>52</td>\n",
       "      <td>15584</td>\n",
       "    </tr>\n",
       "    <tr>\n",
       "      <th>3</th>\n",
       "      <td>125</td>\n",
       "      <td>13082</td>\n",
       "    </tr>\n",
       "    <tr>\n",
       "      <th>4</th>\n",
       "      <td>86</td>\n",
       "      <td>10799</td>\n",
       "    </tr>\n",
       "    <tr>\n",
       "      <th>...</th>\n",
       "      <td>...</td>\n",
       "      <td>...</td>\n",
       "    </tr>\n",
       "    <tr>\n",
       "      <th>94</th>\n",
       "      <td>63</td>\n",
       "      <td>238</td>\n",
       "    </tr>\n",
       "    <tr>\n",
       "      <th>95</th>\n",
       "      <td>64</td>\n",
       "      <td>221</td>\n",
       "    </tr>\n",
       "    <tr>\n",
       "      <th>96</th>\n",
       "      <td>126</td>\n",
       "      <td>217</td>\n",
       "    </tr>\n",
       "    <tr>\n",
       "      <th>97</th>\n",
       "      <td>114</td>\n",
       "      <td>140</td>\n",
       "    </tr>\n",
       "    <tr>\n",
       "      <th>98</th>\n",
       "      <td>127</td>\n",
       "      <td>106</td>\n",
       "    </tr>\n",
       "  </tbody>\n",
       "</table>\n",
       "<p>99 rows × 2 columns</p>\n",
       "</div>"
      ],
      "text/plain": [
       "    nc_id  count\n",
       "0      78  26836\n",
       "1      50  18197\n",
       "2      52  15584\n",
       "3     125  13082\n",
       "4      86  10799\n",
       "..    ...    ...\n",
       "94     63    238\n",
       "95     64    221\n",
       "96    126    217\n",
       "97    114    140\n",
       "98    127    106\n",
       "\n",
       "[99 rows x 2 columns]"
      ]
     },
     "execution_count": 16,
     "metadata": {},
     "output_type": "execute_result"
    }
   ],
   "source": [
    "graffiti_counts"
   ]
  },
  {
   "cell_type": "code",
   "execution_count": null,
   "id": "cca95147-4bf9-4a13-ac19-5aab99b348d5",
   "metadata": {},
   "outputs": [],
   "source": []
  },
  {
   "cell_type": "code",
   "execution_count": 17,
   "id": "9e5c4845-43d5-43f9-a0f6-644a0ab9785e",
   "metadata": {
    "tags": []
   },
   "outputs": [],
   "source": [
    "graffiti_merged = pd.merge(neighborhoods_gdf, graffiti_counts, how=\"left\", on=[\"nc_id\"])"
   ]
  },
  {
   "cell_type": "code",
   "execution_count": 18,
   "id": "1518c65a-22b0-426b-a1fc-fba96b56c46b",
   "metadata": {},
   "outputs": [
    {
     "data": {
      "text/html": [
       "<div>\n",
       "<style scoped>\n",
       "    .dataframe tbody tr th:only-of-type {\n",
       "        vertical-align: middle;\n",
       "    }\n",
       "\n",
       "    .dataframe tbody tr th {\n",
       "        vertical-align: top;\n",
       "    }\n",
       "\n",
       "    .dataframe thead th {\n",
       "        text-align: right;\n",
       "    }\n",
       "</style>\n",
       "<table border=\"1\" class=\"dataframe\">\n",
       "  <thead>\n",
       "    <tr style=\"text-align: right;\">\n",
       "      <th></th>\n",
       "      <th>OBJECTID</th>\n",
       "      <th>name</th>\n",
       "      <th>WADDRESS</th>\n",
       "      <th>DWEBSITE</th>\n",
       "      <th>DEMAIL</th>\n",
       "      <th>DPHONE</th>\n",
       "      <th>nc_id</th>\n",
       "      <th>CERTIFIED</th>\n",
       "      <th>TOOLTIP</th>\n",
       "      <th>NLA_URL</th>\n",
       "      <th>service_region</th>\n",
       "      <th>region_id</th>\n",
       "      <th>color_code</th>\n",
       "      <th>geometry</th>\n",
       "      <th>count</th>\n",
       "    </tr>\n",
       "  </thead>\n",
       "  <tbody>\n",
       "    <tr>\n",
       "      <th>0</th>\n",
       "      <td>1</td>\n",
       "      <td>ARLETA NC</td>\n",
       "      <td>http://www.arletanc.org/</td>\n",
       "      <td>http://empowerla.org/ANC</td>\n",
       "      <td>ANC@EmpowerLA.org</td>\n",
       "      <td>213-978-1551</td>\n",
       "      <td>6</td>\n",
       "      <td>2002-10-22</td>\n",
       "      <td>ARLETA NC</td>\n",
       "      <td>navigatela/reports/nc_reports.cfm?id=6</td>\n",
       "      <td>REGION 1 - NORTH EAST VALLEY</td>\n",
       "      <td>1</td>\n",
       "      <td>#00BFFF</td>\n",
       "      <td>POLYGON ((-118.45006 34.24992, -118.45057 34.2...</td>\n",
       "      <td>1896</td>\n",
       "    </tr>\n",
       "    <tr>\n",
       "      <th>1</th>\n",
       "      <td>2</td>\n",
       "      <td>ARROYO SECO NC</td>\n",
       "      <td>http://www.asnc.us/</td>\n",
       "      <td>http://empowerla.org/ASNC</td>\n",
       "      <td>ASNC@EmpowerLA.org</td>\n",
       "      <td>213-978-1551</td>\n",
       "      <td>42</td>\n",
       "      <td>2002-10-02</td>\n",
       "      <td>ARROYO SECO NC</td>\n",
       "      <td>navigatela/reports/nc_reports.cfm?id=42</td>\n",
       "      <td>REGION 8 - NORTH EAST LA</td>\n",
       "      <td>8</td>\n",
       "      <td>#FF8C00</td>\n",
       "      <td>POLYGON ((-118.22326 34.10393, -118.22368 34.1...</td>\n",
       "      <td>869</td>\n",
       "    </tr>\n",
       "    <tr>\n",
       "      <th>2</th>\n",
       "      <td>3</td>\n",
       "      <td>ATWATER VILLAGE NC</td>\n",
       "      <td>http://www.atwatervillage.org/</td>\n",
       "      <td>http://empowerla.org/AVNC</td>\n",
       "      <td>AVNC@EmpowerLA.org</td>\n",
       "      <td>213-978-1551</td>\n",
       "      <td>37</td>\n",
       "      <td>2003-02-11</td>\n",
       "      <td>ATWATER VILLAGE NC</td>\n",
       "      <td>navigatela/reports/nc_reports.cfm?id=37</td>\n",
       "      <td>REGION 7 - EAST</td>\n",
       "      <td>7</td>\n",
       "      <td>#87CEEB</td>\n",
       "      <td>POLYGON ((-118.27577 34.15377, -118.26185 34.1...</td>\n",
       "      <td>929</td>\n",
       "    </tr>\n",
       "    <tr>\n",
       "      <th>3</th>\n",
       "      <td>4</td>\n",
       "      <td>BEL AIR-BEVERLY CREST NC</td>\n",
       "      <td>http://babcnc.org/</td>\n",
       "      <td>http://empowerla.org/BABCNC</td>\n",
       "      <td>BABCNC@EmpowerLA.org</td>\n",
       "      <td>213-978-1551</td>\n",
       "      <td>64</td>\n",
       "      <td>2002-10-08</td>\n",
       "      <td>BEL AIR-BEVERLY CREST NC</td>\n",
       "      <td>navigatela/reports/nc_reports.cfm?id=64</td>\n",
       "      <td>REGION 11 - WEST LA</td>\n",
       "      <td>11</td>\n",
       "      <td>#7FFFD4</td>\n",
       "      <td>POLYGON ((-118.47487 34.12635, -118.47412 34.1...</td>\n",
       "      <td>221</td>\n",
       "    </tr>\n",
       "    <tr>\n",
       "      <th>4</th>\n",
       "      <td>5</td>\n",
       "      <td>BOYLE HEIGHTS NC</td>\n",
       "      <td>http://bhnc.net/</td>\n",
       "      <td>http://empowerla.org/BHNC</td>\n",
       "      <td>BHNC@EmpowerLA.org</td>\n",
       "      <td>213-978-1551</td>\n",
       "      <td>50</td>\n",
       "      <td>2002-05-21</td>\n",
       "      <td>BOYLE HEIGHTS NC</td>\n",
       "      <td>navigatela/reports/nc_reports.cfm?id=50</td>\n",
       "      <td>REGION 8 - NORTH EAST LA</td>\n",
       "      <td>8</td>\n",
       "      <td>#FF8C00</td>\n",
       "      <td>POLYGON ((-118.21441 34.06064, -118.21305 34.0...</td>\n",
       "      <td>18197</td>\n",
       "    </tr>\n",
       "    <tr>\n",
       "      <th>...</th>\n",
       "      <td>...</td>\n",
       "      <td>...</td>\n",
       "      <td>...</td>\n",
       "      <td>...</td>\n",
       "      <td>...</td>\n",
       "      <td>...</td>\n",
       "      <td>...</td>\n",
       "      <td>...</td>\n",
       "      <td>...</td>\n",
       "      <td>...</td>\n",
       "      <td>...</td>\n",
       "      <td>...</td>\n",
       "      <td>...</td>\n",
       "      <td>...</td>\n",
       "      <td>...</td>\n",
       "    </tr>\n",
       "    <tr>\n",
       "      <th>94</th>\n",
       "      <td>95</td>\n",
       "      <td>WILMINGTON NC</td>\n",
       "      <td>http://www.wilmingtonneighborhoodcouncil.com/</td>\n",
       "      <td>http://empowerla.org/WILMINGTON</td>\n",
       "      <td>WilmingtonNC@EmpowerLA.org</td>\n",
       "      <td>213-978-1551</td>\n",
       "      <td>93</td>\n",
       "      <td>2001-12-11</td>\n",
       "      <td>WILMINGTON NC</td>\n",
       "      <td>navigatela/reports/nc_reports.cfm?id=93</td>\n",
       "      <td>REGION 12 - HARBOR</td>\n",
       "      <td>12</td>\n",
       "      <td>#DB7093</td>\n",
       "      <td>POLYGON ((-118.28303 33.79825, -118.27531 33.7...</td>\n",
       "      <td>5645</td>\n",
       "    </tr>\n",
       "    <tr>\n",
       "      <th>95</th>\n",
       "      <td>96</td>\n",
       "      <td>WILSHIRE CENTER - KOREATOWN NC</td>\n",
       "      <td>http://wcknc.org/</td>\n",
       "      <td>http://empowerla.org/WCKNC</td>\n",
       "      <td>WCKNC@EmpowerLA.org</td>\n",
       "      <td>213-978-1551</td>\n",
       "      <td>55</td>\n",
       "      <td>2003-08-05</td>\n",
       "      <td>WILSHIRE CENTER - KOREATOWN NC</td>\n",
       "      <td>navigatela/reports/nc_reports.cfm?id=55</td>\n",
       "      <td>REGION 6 - CENTRAL 2</td>\n",
       "      <td>6</td>\n",
       "      <td>#CD853F</td>\n",
       "      <td>POLYGON ((-118.29172 34.08018, -118.29167 34.0...</td>\n",
       "      <td>7887</td>\n",
       "    </tr>\n",
       "    <tr>\n",
       "      <th>96</th>\n",
       "      <td>97</td>\n",
       "      <td>WINNETKA NC</td>\n",
       "      <td>http://www.winnetkanc.com/</td>\n",
       "      <td>http://empowerla.org/WINNETKA</td>\n",
       "      <td>WinnetkaNC@EmpowerLA.org</td>\n",
       "      <td>213-978-1551</td>\n",
       "      <td>14</td>\n",
       "      <td>2003-07-22</td>\n",
       "      <td>WINNETKA NC</td>\n",
       "      <td>navigatela/reports/nc_reports.cfm?id=14</td>\n",
       "      <td>REGION 3 - SOUTH WEST VALLEY</td>\n",
       "      <td>3</td>\n",
       "      <td>#EE82EE</td>\n",
       "      <td>POLYGON ((-118.58856 34.23547, -118.58347 34.2...</td>\n",
       "      <td>1025</td>\n",
       "    </tr>\n",
       "    <tr>\n",
       "      <th>97</th>\n",
       "      <td>98</td>\n",
       "      <td>WOODLAND HILLS-WARNER CENTER NC</td>\n",
       "      <td>http://www.whcouncil.org/index.php</td>\n",
       "      <td>http://empowerla.org/WHWCNC</td>\n",
       "      <td>WHWCNC@EmpowerLA.org</td>\n",
       "      <td>213-978-1551</td>\n",
       "      <td>16</td>\n",
       "      <td>2002-03-06</td>\n",
       "      <td>WOODLAND HILLS-WARNER CENTER NC</td>\n",
       "      <td>navigatela/reports/nc_reports.cfm?id=16</td>\n",
       "      <td>REGION 3 - SOUTH WEST VALLEY</td>\n",
       "      <td>3</td>\n",
       "      <td>#EE82EE</td>\n",
       "      <td>POLYGON ((-118.56221 34.17312, -118.56220 34.1...</td>\n",
       "      <td>2050</td>\n",
       "    </tr>\n",
       "    <tr>\n",
       "      <th>98</th>\n",
       "      <td>99</td>\n",
       "      <td>ZAPATA KING NC</td>\n",
       "      <td>http://www.zapatakingnc.org/</td>\n",
       "      <td>http://empowerla.org/ZKNC</td>\n",
       "      <td>None</td>\n",
       "      <td>213-978-1551</td>\n",
       "      <td>125</td>\n",
       "      <td>2015-02-03</td>\n",
       "      <td>ZAPATA KING NC</td>\n",
       "      <td>navigatela/reports/nc_reports.cfm?id=125</td>\n",
       "      <td>REGION 9 - SOUTH LA 2</td>\n",
       "      <td>9</td>\n",
       "      <td>#FF00FF</td>\n",
       "      <td>POLYGON ((-118.28103 34.01109, -118.27402 34.0...</td>\n",
       "      <td>13082</td>\n",
       "    </tr>\n",
       "  </tbody>\n",
       "</table>\n",
       "<p>99 rows × 15 columns</p>\n",
       "</div>"
      ],
      "text/plain": [
       "    OBJECTID                             name  \\\n",
       "0          1                        ARLETA NC   \n",
       "1          2                   ARROYO SECO NC   \n",
       "2          3               ATWATER VILLAGE NC   \n",
       "3          4         BEL AIR-BEVERLY CREST NC   \n",
       "4          5                 BOYLE HEIGHTS NC   \n",
       "..       ...                              ...   \n",
       "94        95                    WILMINGTON NC   \n",
       "95        96   WILSHIRE CENTER - KOREATOWN NC   \n",
       "96        97                      WINNETKA NC   \n",
       "97        98  WOODLAND HILLS-WARNER CENTER NC   \n",
       "98        99                   ZAPATA KING NC   \n",
       "\n",
       "                                         WADDRESS  \\\n",
       "0                        http://www.arletanc.org/   \n",
       "1                             http://www.asnc.us/   \n",
       "2                  http://www.atwatervillage.org/   \n",
       "3                              http://babcnc.org/   \n",
       "4                                http://bhnc.net/   \n",
       "..                                            ...   \n",
       "94  http://www.wilmingtonneighborhoodcouncil.com/   \n",
       "95                              http://wcknc.org/   \n",
       "96                     http://www.winnetkanc.com/   \n",
       "97             http://www.whcouncil.org/index.php   \n",
       "98                   http://www.zapatakingnc.org/   \n",
       "\n",
       "                           DWEBSITE                      DEMAIL        DPHONE  \\\n",
       "0          http://empowerla.org/ANC           ANC@EmpowerLA.org  213-978-1551   \n",
       "1         http://empowerla.org/ASNC          ASNC@EmpowerLA.org  213-978-1551   \n",
       "2         http://empowerla.org/AVNC          AVNC@EmpowerLA.org  213-978-1551   \n",
       "3       http://empowerla.org/BABCNC        BABCNC@EmpowerLA.org  213-978-1551   \n",
       "4         http://empowerla.org/BHNC          BHNC@EmpowerLA.org  213-978-1551   \n",
       "..                              ...                         ...           ...   \n",
       "94  http://empowerla.org/WILMINGTON  WilmingtonNC@EmpowerLA.org  213-978-1551   \n",
       "95       http://empowerla.org/WCKNC         WCKNC@EmpowerLA.org  213-978-1551   \n",
       "96    http://empowerla.org/WINNETKA    WinnetkaNC@EmpowerLA.org  213-978-1551   \n",
       "97      http://empowerla.org/WHWCNC        WHWCNC@EmpowerLA.org  213-978-1551   \n",
       "98        http://empowerla.org/ZKNC                        None  213-978-1551   \n",
       "\n",
       "    nc_id   CERTIFIED                          TOOLTIP  \\\n",
       "0       6  2002-10-22                        ARLETA NC   \n",
       "1      42  2002-10-02                   ARROYO SECO NC   \n",
       "2      37  2003-02-11               ATWATER VILLAGE NC   \n",
       "3      64  2002-10-08         BEL AIR-BEVERLY CREST NC   \n",
       "4      50  2002-05-21                 BOYLE HEIGHTS NC   \n",
       "..    ...         ...                              ...   \n",
       "94     93  2001-12-11                    WILMINGTON NC   \n",
       "95     55  2003-08-05   WILSHIRE CENTER - KOREATOWN NC   \n",
       "96     14  2003-07-22                      WINNETKA NC   \n",
       "97     16  2002-03-06  WOODLAND HILLS-WARNER CENTER NC   \n",
       "98    125  2015-02-03                   ZAPATA KING NC   \n",
       "\n",
       "                                     NLA_URL                service_region  \\\n",
       "0     navigatela/reports/nc_reports.cfm?id=6  REGION 1 - NORTH EAST VALLEY   \n",
       "1    navigatela/reports/nc_reports.cfm?id=42      REGION 8 - NORTH EAST LA   \n",
       "2    navigatela/reports/nc_reports.cfm?id=37               REGION 7 - EAST   \n",
       "3    navigatela/reports/nc_reports.cfm?id=64           REGION 11 - WEST LA   \n",
       "4    navigatela/reports/nc_reports.cfm?id=50      REGION 8 - NORTH EAST LA   \n",
       "..                                       ...                           ...   \n",
       "94   navigatela/reports/nc_reports.cfm?id=93            REGION 12 - HARBOR   \n",
       "95   navigatela/reports/nc_reports.cfm?id=55          REGION 6 - CENTRAL 2   \n",
       "96   navigatela/reports/nc_reports.cfm?id=14  REGION 3 - SOUTH WEST VALLEY   \n",
       "97   navigatela/reports/nc_reports.cfm?id=16  REGION 3 - SOUTH WEST VALLEY   \n",
       "98  navigatela/reports/nc_reports.cfm?id=125         REGION 9 - SOUTH LA 2   \n",
       "\n",
       "   region_id color_code                                           geometry  \\\n",
       "0          1    #00BFFF  POLYGON ((-118.45006 34.24992, -118.45057 34.2...   \n",
       "1          8    #FF8C00  POLYGON ((-118.22326 34.10393, -118.22368 34.1...   \n",
       "2          7    #87CEEB  POLYGON ((-118.27577 34.15377, -118.26185 34.1...   \n",
       "3         11    #7FFFD4  POLYGON ((-118.47487 34.12635, -118.47412 34.1...   \n",
       "4          8    #FF8C00  POLYGON ((-118.21441 34.06064, -118.21305 34.0...   \n",
       "..       ...        ...                                                ...   \n",
       "94        12    #DB7093  POLYGON ((-118.28303 33.79825, -118.27531 33.7...   \n",
       "95         6    #CD853F  POLYGON ((-118.29172 34.08018, -118.29167 34.0...   \n",
       "96         3    #EE82EE  POLYGON ((-118.58856 34.23547, -118.58347 34.2...   \n",
       "97         3    #EE82EE  POLYGON ((-118.56221 34.17312, -118.56220 34.1...   \n",
       "98         9    #FF00FF  POLYGON ((-118.28103 34.01109, -118.27402 34.0...   \n",
       "\n",
       "    count  \n",
       "0    1896  \n",
       "1     869  \n",
       "2     929  \n",
       "3     221  \n",
       "4   18197  \n",
       "..    ...  \n",
       "94   5645  \n",
       "95   7887  \n",
       "96   1025  \n",
       "97   2050  \n",
       "98  13082  \n",
       "\n",
       "[99 rows x 15 columns]"
      ]
     },
     "execution_count": 18,
     "metadata": {},
     "output_type": "execute_result"
    }
   ],
   "source": [
    "graffiti_merged"
   ]
  },
  {
   "cell_type": "code",
   "execution_count": null,
   "id": "e18113c6-1914-403d-93ee-68e5550f6908",
   "metadata": {},
   "outputs": [],
   "source": []
  },
  {
   "cell_type": "markdown",
   "id": "15216aee-58c2-4a11-a8ab-403dd112c9d1",
   "metadata": {},
   "source": [
    "# 4 - Compute the Measure\n",
    "\n",
    "Computation is simple.  Use the geometry of the NC to compute area in miles squared.\n",
    "\n",
    "For the density I'm simply using total population.  I suspect it would be interesting to examine some of the other ethnic measures?  Maybe a nice pull down to select?  Ah... for another day."
   ]
  },
  {
   "cell_type": "code",
   "execution_count": null,
   "id": "377b676e-c953-43be-b11d-e9df11c42264",
   "metadata": {
    "tags": []
   },
   "outputs": [],
   "source": [
    "from pyproj import Geod\n",
    "\n",
    "geod = Geod(ellps=\"WGS84\")\n",
    "\n",
    "def square_miles(geo):\n",
    "    square_meters = abs(geod.geometry_area_perimeter(geo)[0])\n",
    "    return (square_meters * 10.764) / 27878000"
   ]
  },
  {
   "cell_type": "code",
   "execution_count": null,
   "id": "afb0095d-4efc-4f5e-b42d-b02658d897f1",
   "metadata": {},
   "outputs": [],
   "source": [
    "neighborhood_merged['sq_miles'] = neighborhood_merged.apply(lambda row: square_miles(row.geometry), axis=1)"
   ]
  },
  {
   "cell_type": "code",
   "execution_count": null,
   "id": "ed44fba2-d344-47e1-ae5b-d0344456981e",
   "metadata": {},
   "outputs": [],
   "source": [
    "neighborhood_merged['density'] = neighborhood_merged.apply(lambda row: row['Total Population'] / row['sq_miles'], axis=1)"
   ]
  },
  {
   "cell_type": "markdown",
   "id": "65c50231-8eff-433c-98b4-9ca0a5e8e442",
   "metadata": {},
   "source": [
    "Remember I like to look at one of the values."
   ]
  },
  {
   "cell_type": "code",
   "execution_count": null,
   "id": "ef2ed982-1813-4855-9945-5f07124e0f45",
   "metadata": {},
   "outputs": [],
   "source": [
    "neighborhood_merged.iloc[27]"
   ]
  },
  {
   "cell_type": "markdown",
   "id": "89a9d914-101d-475e-b256-7673c4282d94",
   "metadata": {},
   "source": [
    "Some sanity checking on the data before we generate the display.\n",
    "\n",
    "In the real world we'll have to do some more work on this data!"
   ]
  },
  {
   "cell_type": "code",
   "execution_count": null,
   "id": "2828b068-03d4-4b2c-bcb8-f615e77bc956",
   "metadata": {
    "tags": []
   },
   "outputs": [],
   "source": [
    "neighborhood_merged.density.max()"
   ]
  },
  {
   "cell_type": "code",
   "execution_count": null,
   "id": "66fd6e29-f5b6-4c73-9d6e-e9020b0e0f92",
   "metadata": {},
   "outputs": [],
   "source": [
    "neighborhood_merged.density.min()"
   ]
  },
  {
   "cell_type": "code",
   "execution_count": null,
   "id": "7661e42f-52ba-4906-915c-9ade965ddcb6",
   "metadata": {},
   "outputs": [],
   "source": [
    "len(neighborhood_merged)"
   ]
  },
  {
   "cell_type": "markdown",
   "id": "14a9cb11-4482-4c16-80c4-2e850c906b74",
   "metadata": {},
   "source": [
    "# 5 - Display the Choropleth"
   ]
  },
  {
   "cell_type": "code",
   "execution_count": 19,
   "id": "9b13a342-6cd0-4b76-a003-841e566d95fb",
   "metadata": {},
   "outputs": [
    {
     "data": {
      "application/vnd.jupyter.widget-view+json": {
       "model_id": "ea00b3e5eed64654a6de746d13ee04a1",
       "version_major": 2,
       "version_minor": 0
      },
      "text/plain": [
       "Map(center=[34.05, -118.25], controls=(ZoomControl(options=['position', 'zoom_in_text', 'zoom_in_title', 'zoom…"
      ]
     },
     "metadata": {},
     "output_type": "display_data"
    }
   ],
   "source": [
    "imagery = basemap_to_tiles(basemaps.Esri.WorldImagery)\n",
    "imagery.base = True\n",
    "osm = basemap_to_tiles(basemaps.OpenStreetMap.Mapnik)\n",
    "osm.base = True\n",
    "\n",
    "\n",
    "map_display = Map(center=(34.05, -118.25), zoom=12,\n",
    "                  layers=[imagery, osm],\n",
    "                  layout=Layout(height=\"900px\"),\n",
    "                  scroll_wheel_zoom=True)\n",
    "\n",
    "#map_display.add_control(LayersControl())\n",
    "#map_display += nc_layer\n",
    "map_display"
   ]
  },
  {
   "cell_type": "markdown",
   "id": "cb18dee2-88b0-453a-9e7e-094ffcf822fc",
   "metadata": {},
   "source": [
    "refer to : https://www.youtube.com/watch?v=wjzAy_yLrdA"
   ]
  },
  {
   "cell_type": "code",
   "execution_count": 22,
   "id": "763c8f08-5faa-4ae6-ab3d-d0f309950a25",
   "metadata": {},
   "outputs": [],
   "source": [
    "from ipyleaflet import Choropleth, Map\n",
    "from branca.colormap import linear\n",
    "a_geojson = json.loads(graffiti_merged.to_json())\n",
    "\n",
    "graffiti_density = dict(zip(graffiti_merged['name'].tolist(), graffiti_merged['count'].tolist()))\n",
    "for i in a_geojson['features']:\n",
    "    i['id'] = i['properties']['name']\n",
    "\n",
    "layer = Choropleth(\n",
    "                    geo_data=a_geojson,\n",
    "                    choro_data=graffiti_density,\n",
    "                    colormap=linear.YlOrRd_09, #linear.Blues_05,\n",
    "                    style={'fillOpacity': 1.0, \"color\":\"black\"},)\n",
    "                    #key_on=\"name\")\n",
    "\n",
    "map_display.add_layer(layer)"
   ]
  },
  {
   "cell_type": "markdown",
   "id": "a4d0e1d6-daf2-4a04-80fa-ab3d7246bca7",
   "metadata": {},
   "source": [
    "I need to revisit a tooltip type popup.  For now this will work."
   ]
  },
  {
   "cell_type": "code",
   "execution_count": 24,
   "id": "5e8dc5f4-fcb7-4720-abbd-bb079830bca7",
   "metadata": {},
   "outputs": [],
   "source": [
    "geo_json = GeoJSON(\n",
    "    data=a_geojson,\n",
    "    style={\n",
    "        'opacity': 1, 'dashArray': '9', 'fillOpacity': 0.6, 'weight': 1\n",
    "    },\n",
    "    hover_style={\n",
    "        'color': 'white', 'dashArray': '0', 'fillOpacity': 0.5\n",
    "    },\n",
    "    name='NCs'\n",
    ")\n",
    "\n",
    "html = HTML('''Hover over a district''')\n",
    "html.layout.margin = '0px 20px 20px 20 px'\n",
    "control = WidgetControl(widget=html, position='bottomright')\n",
    "\n",
    "def update_html(feature, **kwargs):\n",
    "    html.value = '''<h3><b>NC: {}</b></h3>\n",
    "                    <h4>Count: {}'''.format(feature['properties']['name'],\n",
    "                                                           feature['properties']['count'])\n",
    "    \n",
    "map_display.add_control(control)  # does += work for this?\n",
    "\n",
    "layer.on_hover(update_html)"
   ]
  },
  {
   "cell_type": "markdown",
   "id": "1456dbbd-0a78-4974-8713-eac557c40936",
   "metadata": {},
   "source": [
    "# 6 - So What?\n",
    "\n",
    "I say this tounge in cheeck.  Things to think about:\n",
    "\n",
    "  1. Should we examine measures besides total population?\n",
    "  2. Does it make sense to extend the 311 data as we did with the service regions?\n",
    "  3. Do we just use this to select an NC then query 311 (or ...)?\n",
    "  \n"
   ]
  },
  {
   "cell_type": "code",
   "execution_count": null,
   "id": "066e728e-fa09-418b-9bf1-332fa5631a23",
   "metadata": {},
   "outputs": [],
   "source": []
  }
 ],
 "metadata": {
  "kernelspec": {
   "display_name": "Python 3 (ipykernel)",
   "language": "python",
   "name": "python3"
  },
  "language_info": {
   "codemirror_mode": {
    "name": "ipython",
    "version": 3
   },
   "file_extension": ".py",
   "mimetype": "text/x-python",
   "name": "python",
   "nbconvert_exporter": "python",
   "pygments_lexer": "ipython3",
   "version": "3.8.12"
  }
 },
 "nbformat": 4,
 "nbformat_minor": 5
}
