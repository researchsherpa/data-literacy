{
 "cells": [
  {
   "cell_type": "markdown",
   "id": "3c5eac7e-ba2d-4708-83d5-84e9347b5d44",
   "metadata": {
    "tags": []
   },
   "source": [
    "# Exploring the 311-data.org api.\n",
    "\n",
    "Up to this point I've used data from [MyLA311](https://data.lacity.org/City-Infrastructure-Service-Requests/MyLA311-Service-Request-Data-2021/97z7-y5bt).  It is easy to use.  There is another possible source for the data.  H4LA has built [311-data.org](https://311-data.org) that ingests the same 311 data into a searchable portal.  This is a quick analysis to compare the data sets I can get from each.  It is not meant to be rigourous or exhaustive, just a quick look.\n",
    "\n",
    "I am going to compare a basic data set from each.  I'm not looking at all the API enpoints, just a select few.  Steps:\n",
    "\n",
    "1. Grab the current processed data set (as of 12/29/2021).  \n",
    "2. Use requests library to pull from the API.\n",
    "3. Compare the two results.\n",
    "\n",
    "\n",
    "Simple."
   ]
  },
  {
   "cell_type": "code",
   "execution_count": null,
   "id": "f3585fc1-b3c4-4fce-9fcc-f7d17168ec2d",
   "metadata": {},
   "outputs": [],
   "source": [
    "%run start.py\n",
    "\n",
    "import utils\n",
    "from utils import read_new311_shape, marker_color_map, dt_to_object\n",
    "\n",
    "import numpy as np"
   ]
  },
  {
   "cell_type": "markdown",
   "id": "35c45b5d-5a03-4ac8-b7e6-e56ab1e64211",
   "metadata": {},
   "source": [
    "# 1 - MyLA311\n",
    "\n",
    "I am using the geodataframe generated for 2021. As usual I'm using my helper function to load it and map the columns names. Just a shortcut!\n",
    "\n",
    "I am going to use it to evaluate/compare the two data sets."
   ]
  },
  {
   "cell_type": "code",
   "execution_count": null,
   "id": "5e09178b-053b-43b4-be9c-bad7544e6d2f",
   "metadata": {
    "tags": []
   },
   "outputs": [],
   "source": [
    "%%time\n",
    "new311_gdf = read_new311_shape('../data/311/clean311-geo.zip/')"
   ]
  },
  {
   "cell_type": "markdown",
   "id": "62ae326f-3e2c-49b7-b8a4-f1dbd071bcd1",
   "metadata": {},
   "source": [
    "Start with some basic sanity checks."
   ]
  },
  {
   "cell_type": "code",
   "execution_count": null,
   "id": "94d4edc7-a327-4882-beb2-94ecb9154c75",
   "metadata": {},
   "outputs": [],
   "source": [
    "new311_gdf['created_dt'].min()"
   ]
  },
  {
   "cell_type": "code",
   "execution_count": null,
   "id": "22c5cb74-594b-4317-bd0f-36787bf64451",
   "metadata": {},
   "outputs": [],
   "source": [
    "new311_gdf['created_dt'].max()"
   ]
  },
  {
   "cell_type": "markdown",
   "id": "810b8e1a-2e64-4fcf-a58d-089a1efb3e70",
   "metadata": {},
   "source": [
    "So the first and last time stamps seem reasonable.\n",
    "\n",
    "I know some things about the API so I'm going to add a categorical for month (name)."
   ]
  },
  {
   "cell_type": "code",
   "execution_count": null,
   "id": "4c7e49a1-a8fe-4d28-be0b-86f543a138ce",
   "metadata": {},
   "outputs": [],
   "source": [
    "new311_gdf['month_name'] = new311_gdf['created_dt'].apply(lambda dt: dt.month_name())"
   ]
  },
  {
   "cell_type": "markdown",
   "id": "5c4c226b-3760-446c-8807-cbda69d5460e",
   "metadata": {},
   "source": [
    "Let's look at counts per month.  This will drive some thinking when I get to the API."
   ]
  },
  {
   "cell_type": "code",
   "execution_count": null,
   "id": "18b5d65d-6fa9-433c-ae51-167c355615df",
   "metadata": {},
   "outputs": [],
   "source": [
    "new311_gdf['month_name'].value_counts(sort=False)"
   ]
  },
  {
   "cell_type": "markdown",
   "id": "011e8c16-e893-4ce5-9e3a-10875de35802",
   "metadata": {},
   "source": [
    "Here's an example using month_name to get the "
   ]
  },
  {
   "cell_type": "code",
   "execution_count": null,
   "id": "718c4b43-70f7-4088-80bc-c4e29112ccbd",
   "metadata": {
    "tags": []
   },
   "outputs": [],
   "source": [
    "jan_end_dt = new311_gdf.query(f\"month_name == 'January'\")['created_dt'].max().strftime('%Y-%m-%d %I:%M %p')\n",
    "\n",
    "jan_start_dt = new311_gdf.query(f\"month_name == 'January'\")['created_dt'].min().strftime('%Y-%m-%d %I:%M %p')\n",
    "\n",
    "print(f\"First request in January was {jan_start_dt} and last request was {jan_end_dt}\")"
   ]
  },
  {
   "cell_type": "markdown",
   "id": "503f65e8-1dd8-4afd-847c-80615cf7e624",
   "metadata": {},
   "source": [
    "Ok, that passess the goofy test.  We have the January 311 requests from the MyLA file.\n",
    "\n",
    "One last query on the data to look at later:"
   ]
  },
  {
   "cell_type": "code",
   "execution_count": null,
   "id": "f2044cf9-e1e8-409e-81c3-cfe4d67a4d91",
   "metadata": {},
   "outputs": [],
   "source": [
    "new311_gdf.query(f\"month_name == 'January' and request_type == 'Graffiti Removal'\")['nc_name'].value_counts()"
   ]
  },
  {
   "cell_type": "markdown",
   "id": "b238f9d3-bc1a-44db-97e3-42516826e476",
   "metadata": {},
   "source": [
    "# 2 - 311-data.org API\n",
    "\n",
    "Next we'll look at the API.  This is a quick hack so I'm not doing any error checking.\n",
    "\n",
    "I've noticed some peculiar behavior at times.  request.get will return 200 but the json seems malformed.  If that happens, executing the get a second time will probably work.\n",
    "\n",
    "I did a quick look at the API end points and the only one I'll use for starters is requests.\n",
    "\n",
    "Also note that the limit default is 1000 rows with a max of 100000.  I've set it to 100000.  Now think back to the month_name.value_counts above. "
   ]
  },
  {
   "cell_type": "code",
   "execution_count": null,
   "id": "82de9704-c373-4d79-b509-35a94c670921",
   "metadata": {},
   "outputs": [],
   "source": [
    "IFrame(\"https://dev-api.311-data.org/docs\", width=1400, height=800)"
   ]
  },
  {
   "cell_type": "code",
   "execution_count": null,
   "id": "34249adb-9029-4320-9b0c-7a8557df83d5",
   "metadata": {},
   "outputs": [],
   "source": [
    "url_base = 'https://dev-api.311-data.org/'\n",
    "\n",
    "top_level_nouns = ['councils', 'regions', 'agencies', 'sources', 'types', 'requests', 'geojson', 'servicerequest']"
   ]
  },
  {
   "cell_type": "markdown",
   "id": "c9f5f7c5-1164-4d27-8db2-ba981cd0fc68",
   "metadata": {},
   "source": [
    "So this is an extremely hacky way to do this.  We might revisit later time permitting."
   ]
  },
  {
   "cell_type": "code",
   "execution_count": null,
   "id": "de5575fa-fb85-47bd-9954-a17b20b52e0c",
   "metadata": {},
   "outputs": [],
   "source": [
    "r1 = requests.get('https://dev-api.311-data.org/' + top_level_nouns[5] + '?start_date=2021-01-01&end_date=2021-01-15&skip=0&limit=100000')\n",
    "requests1_df = pd.DataFrame(r1.json())"
   ]
  },
  {
   "cell_type": "code",
   "execution_count": null,
   "id": "72c0e2f6-2ff0-49d9-87f0-d25f5a32e958",
   "metadata": {
    "tags": []
   },
   "outputs": [],
   "source": [
    "r2 = requests.get('https://dev-api.311-data.org/' + top_level_nouns[5] + '?start_date=2021-01-16&end_date=2021-01-31&skip=0&limit=100000')\n",
    "requests2_df = pd.DataFrame(r2.json())"
   ]
  },
  {
   "cell_type": "markdown",
   "id": "87063ecc-dce9-4024-81ea-3659bfc53719",
   "metadata": {},
   "source": [
    "Note if either of these cells throws an exception just rerun.  I've noticed sometimes I get a 200 response, but the payload seems broken.\n",
    "\n",
    "Not sure what is going on, but I don't want to investigate why right now."
   ]
  },
  {
   "cell_type": "code",
   "execution_count": null,
   "id": "de27e946-95a9-4cd6-b6e5-e8680bf17bb6",
   "metadata": {},
   "outputs": [],
   "source": [
    "h4la_january_df = pd.concat([requests1_df, requests2_df])\n",
    "h4la_january_df['createdDate'] = pd.to_datetime(h4la_january_df['createdDate'])"
   ]
  },
  {
   "cell_type": "code",
   "execution_count": null,
   "id": "3a5d39b0-c064-4364-8be3-a3229c2a03a1",
   "metadata": {
    "tags": []
   },
   "outputs": [],
   "source": [
    "jan_end_dt = h4la_january_df['createdDate'].max().strftime('%Y-%m-%d %I:%M %p')\n",
    "\n",
    "jan_start_dt = h4la_january_df['createdDate'].min().strftime('%Y-%m-%d %I:%M %p')\n",
    "\n",
    "print(f\"First request in January was {jan_start_dt} and last request was {jan_end_dt}\")"
   ]
  },
  {
   "cell_type": "markdown",
   "id": "552a7f7e-55f6-4b78-b689-b317cb82d31f",
   "metadata": {},
   "source": [
    "Ok, that passess the goofy test number two.  Compare the first/last times for MyLA version and this one.\n",
    "\n",
    "One last query on the data to look at later:"
   ]
  },
  {
   "cell_type": "code",
   "execution_count": null,
   "id": "29cadbff-eafa-4603-8c52-fbd63065c70c",
   "metadata": {},
   "outputs": [],
   "source": [
    "h4la_january_df.columns"
   ]
  },
  {
   "cell_type": "code",
   "execution_count": null,
   "id": "6c729fea-5f09-4bcf-bb9e-b0c171fd8727",
   "metadata": {},
   "outputs": [],
   "source": [
    "h4la_january_df.query(f\"typeName == 'Graffiti'\")['councilName'].value_counts()"
   ]
  },
  {
   "cell_type": "markdown",
   "id": "54076b62-f38d-44db-9bd4-cd7619ffab2e",
   "metadata": {},
   "source": [
    "Note the differences in the data models and value types.  Taking that into consideration the values match up."
   ]
  },
  {
   "cell_type": "markdown",
   "id": "226d2ced-0b0b-4ce1-bb18-a4151130f306",
   "metadata": {},
   "source": [
    "# 3 - Comparison\n",
    "\n",
    "We've already done a back-of-the-envelope comparison.  Let's look at them side by side."
   ]
  },
  {
   "cell_type": "code",
   "execution_count": null,
   "id": "2c354253-27fc-4bb5-a603-59ded75c2f91",
   "metadata": {},
   "outputs": [],
   "source": [
    "january_df = new311_gdf.query(f\"month_name == 'January'\").reset_index().drop(columns='index')"
   ]
  },
  {
   "cell_type": "code",
   "execution_count": null,
   "id": "3e1ca25a-1ec3-4dba-9b4c-aff7f8f9d417",
   "metadata": {
    "tags": []
   },
   "outputs": [],
   "source": [
    "myla_info = Output(layout={'border': '1px solid black',\n",
    "                            'width': '50%'})\n",
    "\n",
    "h4la_info = Output(layout={'border': '1px solid black',\n",
    "                            'width': '50%'})\n",
    "\n",
    "with myla_info:\n",
    "    display(HTML('<center><b>myla311 info()</b></center>'))\n",
    "    display(january_df.info())\n",
    "    \n",
    "with h4la_info:\n",
    "    display(HTML('<center><b>h4la info()</b></center>'))\n",
    "    display((h4la_january_df.info()))\n",
    "          \n",
    "HBox([myla_info, h4la_info])            "
   ]
  },
  {
   "cell_type": "markdown",
   "id": "71b2bdba-343d-4b05-86dc-e791d5a35ba3",
   "metadata": {},
   "source": [
    "# 4 - Other API endpoints\n",
    "\n",
    "I didn't spend much time on any of the other end points.  Here's a few pertinent examples."
   ]
  },
  {
   "cell_type": "code",
   "execution_count": null,
   "id": "8a19ee44-aea3-4e95-a682-5caec6818289",
   "metadata": {},
   "outputs": [],
   "source": [
    "council_r = requests.get('https://dev-api.311-data.org/councils')"
   ]
  },
  {
   "cell_type": "code",
   "execution_count": null,
   "id": "d6810e08-465c-4dc4-accf-92f7b14513b4",
   "metadata": {},
   "outputs": [],
   "source": [
    "councils = council_r.json()"
   ]
  },
  {
   "cell_type": "code",
   "execution_count": null,
   "id": "06e515ec-ac90-4554-895a-442ba6e9ec02",
   "metadata": {},
   "outputs": [],
   "source": [
    "len(councils)"
   ]
  },
  {
   "cell_type": "code",
   "execution_count": null,
   "id": "4de34d9f-5200-42d6-a706-336ca813aa94",
   "metadata": {},
   "outputs": [],
   "source": [
    "council_df = pd.DataFrame(councils)"
   ]
  },
  {
   "cell_type": "code",
   "execution_count": null,
   "id": "1c55c33a-0858-4a0d-9972-b5f3e5d50990",
   "metadata": {},
   "outputs": [],
   "source": [
    "council_df"
   ]
  },
  {
   "cell_type": "markdown",
   "id": "91379542-6d79-404d-a8e7-6db0f877dda9",
   "metadata": {},
   "source": [
    "Not 100% sure where this is coming from.  The NC's I've dealt with include geometries (polygons).  I assume this lat/lon is the centroid but ..."
   ]
  },
  {
   "cell_type": "code",
   "execution_count": null,
   "id": "74bf12e0-25ef-4c4a-ba99-6218f7da0660",
   "metadata": {},
   "outputs": [],
   "source": [
    "r2 = requests.get('https://dev-api.311-data.org/councils/types/stats')"
   ]
  },
  {
   "cell_type": "code",
   "execution_count": null,
   "id": "8621aa15-29ff-47df-b590-ed3b2615b658",
   "metadata": {},
   "outputs": [],
   "source": [
    "council_stats = pd.DataFrame(r2.json())\n",
    "council_stats"
   ]
  },
  {
   "cell_type": "markdown",
   "id": "796c7f3c-0ab5-4e9f-a5cb-01e641e52bd0",
   "metadata": {},
   "source": [
    "Once again, I assume this is something they use in their UI? \n",
    "\n",
    "One last endpoint is the geometry endpoint, /geojson.  Let's see what it is..."
   ]
  },
  {
   "cell_type": "code",
   "execution_count": null,
   "id": "f7e90d2a-b3fe-4a1f-b9c4-f75cdfe6e27e",
   "metadata": {},
   "outputs": [],
   "source": [
    "geo = requests.get('https://dev-api.311-data.org/geojson')"
   ]
  },
  {
   "cell_type": "code",
   "execution_count": null,
   "id": "24d3b8ca-91f2-4749-9345-972251d92313",
   "metadata": {},
   "outputs": [],
   "source": [
    "len(geo.json()['features'])"
   ]
  },
  {
   "cell_type": "markdown",
   "id": "4db9644b-8df8-45fa-b9e9-439b520cefbd",
   "metadata": {},
   "source": [
    "So, it looks like the geojson endpoint is the geometries I'd expect from the certified Neighborhood Council on data.lacity.org.  My next step would be to get this in a geodataframe, but ...\n",
    "\n",
    "That's as far as I'm going to go with this.\n",
    "\n",
    "My conclusions:\n",
    "\n",
    "  1. They both seem to have the same overall content.\n",
    "  2. Column names and values are different so that could complicate analytic code."
   ]
  },
  {
   "cell_type": "markdown",
   "id": "873bfc3f-f7dd-4095-9363-ab9bf8de3121",
   "metadata": {},
   "source": [
    "# 5 - Build Yearly Dataset\n",
    "\n",
    "So now the task is to get the data as one csv for 2021.  Remember we have the 100000 limit on each API call. How could we automate this?  \n",
    "\n",
    "  1. The first (easy part) is to construct the queries.  You've seen the components above.  \n",
    "  2. Using the queries we can use the API to get a months worth of requests.  That keeps us within the 100K limit.\n",
    "  3. Iterate on \"months\" in a year and concat results.\n",
    "  4. Try these steps and see if we need to add exceptions to the mix.\n",
    "  \n",
    "**Note:** I could look into a pagination approach but this seems ..."
   ]
  },
  {
   "cell_type": "markdown",
   "id": "3bd4f813-507f-477e-93a3-48502696e112",
   "metadata": {},
   "source": [
    "## 1 - Build the query"
   ]
  },
  {
   "cell_type": "markdown",
   "id": "f8b495d1-353b-4bcd-bbf1-a113030b358f",
   "metadata": {},
   "source": [
    "The calendar module comes in handy for this!"
   ]
  },
  {
   "cell_type": "code",
   "execution_count": null,
   "id": "b8a42905-15ec-4e4e-aaea-8af44857cac8",
   "metadata": {},
   "outputs": [],
   "source": [
    "import calendar"
   ]
  },
  {
   "cell_type": "markdown",
   "id": "03544145-a7a8-4ebe-a423-172ac17fac30",
   "metadata": {},
   "source": [
    "https://stackoverflow.com/questions/36155332/how-to-get-the-first-day-and-last-day-of-current-month-in-python"
   ]
  },
  {
   "cell_type": "markdown",
   "id": "15a252d0-9721-49ae-8ebc-bff1e994b148",
   "metadata": {},
   "source": [
    "Remember we need to get date ranges for two queries on any given month.  Based on the calendar module.\n",
    "\n",
    "First the mechanics (ie. see how it works)."
   ]
  },
  {
   "cell_type": "code",
   "execution_count": null,
   "id": "3b92b3d3-df45-4c68-8621-d5b52a526019",
   "metadata": {},
   "outputs": [],
   "source": [
    "_, num_days = calendar.monthrange(2021, 1)"
   ]
  },
  {
   "cell_type": "code",
   "execution_count": null,
   "id": "1214030b-9629-4fbc-ad1e-3dd991536ad6",
   "metadata": {},
   "outputs": [],
   "source": [
    "int(num_days/2) + 1"
   ]
  },
  {
   "cell_type": "code",
   "execution_count": null,
   "id": "8bb97322-92c4-4175-b65c-6f313c4b4336",
   "metadata": {},
   "outputs": [],
   "source": [
    "first_day = datetime.date(2021, 1, 1).strftime('%Y-%m-%d')\n",
    "end_first_half = datetime.date(2021, 1, int(num_days/2)).strftime('%Y-%m-%d ')\n",
    "start_second_half = datetime.date(2021, 1, int(num_days/2)+1).strftime('%Y-%m-%d')           \n",
    "last_day = datetime.date(2021, 1, num_days)"
   ]
  },
  {
   "cell_type": "code",
   "execution_count": null,
   "id": "719601f2-77ea-4241-a4a1-8a335c933f96",
   "metadata": {},
   "outputs": [],
   "source": [
    "print(first_day)\n",
    "print(end_first_half)\n",
    "print(start_second_half)\n",
    "print(last_day)"
   ]
  },
  {
   "cell_type": "markdown",
   "id": "76c6a892-1462-4d9e-991c-a9db72ed8fc1",
   "metadata": {},
   "source": [
    "Now build a function to create query strings."
   ]
  },
  {
   "cell_type": "code",
   "execution_count": null,
   "id": "368bbdaa-d210-41ae-b830-dd640f7f1e17",
   "metadata": {},
   "outputs": [],
   "source": [
    "def build_query_for_month(month, year=2021):\n",
    "    _, num_days = calendar.monthrange(year, month)\n",
    "    \n",
    "    first_day = datetime.date(year, month, 1).strftime('%Y-%m-%d')\n",
    "    end_first_half = datetime.date(year, month, int(num_days/2)).strftime('%Y-%m-%d')\n",
    "    start_second_half = datetime.date(year, month, int(num_days/2)+1).strftime('%Y-%m-%d')           \n",
    "    last_day = datetime.date(year, month, num_days)\n",
    "    \n",
    "    params1 = f\"start_date={first_day}&end_date={end_first_half}\"\n",
    "    \n",
    "    q1 = \"https://dev-api.311-data.org/requests?\" + params1 +\"&skip=0&limit=100000\"\n",
    "    \n",
    "    params2  = f\"start_date={start_second_half}&end_date={last_day}\"\n",
    "    \n",
    "    q2 = \"https://dev-api.311-data.org/requests?\" + params2 +\"&skip=0&limit=100000\"\n",
    "    \n",
    "    return q1, q2"
   ]
  },
  {
   "cell_type": "code",
   "execution_count": null,
   "id": "1aa8d5bd-530b-419c-b8da-ca9f403d7e9b",
   "metadata": {},
   "outputs": [],
   "source": [
    "build_query_for_month(1)"
   ]
  },
  {
   "cell_type": "code",
   "execution_count": null,
   "id": "7d6b57ad-b770-4310-b795-c4e9abbab96d",
   "metadata": {},
   "outputs": [],
   "source": [
    "q1, q2 = build_query_for_month(6)"
   ]
  },
  {
   "cell_type": "code",
   "execution_count": null,
   "id": "236b4dd7-458c-4a7c-8e36-0a94c2e7704a",
   "metadata": {},
   "outputs": [],
   "source": [
    "print(q1)\n",
    "print(q2)"
   ]
  },
  {
   "cell_type": "markdown",
   "id": "7208e681-8bc5-4c2e-9192-a7c4f9f7a4ae",
   "metadata": {},
   "source": [
    "So now we have the function we need that converts the month to two query strings."
   ]
  },
  {
   "cell_type": "markdown",
   "id": "d09a50c0-9fb8-4262-af78-edb4cc093702",
   "metadata": {},
   "source": [
    "## 2 - Get One Month as csv"
   ]
  },
  {
   "cell_type": "markdown",
   "id": "e13add40-97ac-4571-a224-8aa88bb59023",
   "metadata": {},
   "source": [
    "So I'm getting intermittent exceptions.  Need to see if I can fix this."
   ]
  },
  {
   "cell_type": "code",
   "execution_count": null,
   "id": "766f6542-a647-4dd0-8687-31806d01e7d0",
   "metadata": {},
   "outputs": [],
   "source": [
    "def df_for_month(month, year=2021):\n",
    "    \"\"\"Get one months worth of 311 data.\n",
    "       The API limit is 100000.  All the months have more than that.\n",
    "       Use build_query_for_month to construct needed queries.\n",
    "       Input: month - int\n",
    "              year - int\n",
    "       Note: A kludgey exception.\n",
    "    \"\"\"\n",
    "    q1, q2 = build_query_for_month(month, year)\n",
    "    try:\n",
    "        first_half_df = pd.DataFrame(requests.get(q1).json())\n",
    "    except:\n",
    "        print(f\"first half {month}\")\n",
    "        first_half_df = pd.DataFrame(requests.get(q1).json())\n",
    "        \n",
    "    try:\n",
    "        second_half_df = pd.DataFrame(requests.get(q2).json())\n",
    "    except:\n",
    "        print(f\"first half {month}\")\n",
    "        second_half_df = pd.DataFrame(requests.get(q2).json())\n",
    "    \n",
    "    month_df = pd.concat([first_half_df, second_half_df])\n",
    "    month_df['createdDate'] = pd.to_datetime(month_df['createdDate'])\n",
    "    \n",
    "    return month_df"
   ]
  },
  {
   "cell_type": "markdown",
   "id": "e60a9908-8146-4f60-a274-d928ee7de869",
   "metadata": {},
   "source": [
    "Easy peesy.  Here's a couple of examples."
   ]
  },
  {
   "cell_type": "code",
   "execution_count": null,
   "id": "144b4fae-79b5-4bda-8f84-0d20ccbf5c55",
   "metadata": {},
   "outputs": [],
   "source": [
    "jan_df = df_for_month(1)"
   ]
  },
  {
   "cell_type": "code",
   "execution_count": null,
   "id": "1183c3d5-9be9-4ad6-8011-9566b748ccdf",
   "metadata": {},
   "outputs": [],
   "source": [
    "len(jan_df)"
   ]
  },
  {
   "cell_type": "markdown",
   "id": "2cf34653-be7d-439e-9f52-7af878fc0dd4",
   "metadata": {},
   "source": [
    "Recollect, from the myla data pull:"
   ]
  },
  {
   "cell_type": "code",
   "execution_count": null,
   "id": "4dd05b57-0483-4da5-b07f-7eb7f56d0132",
   "metadata": {},
   "outputs": [],
   "source": [
    "len(new311_gdf.query(f\"month_name == 'January'\"))"
   ]
  },
  {
   "cell_type": "markdown",
   "id": "7fdd595f-b1ca-44b1-bf5d-5908ef57c695",
   "metadata": {},
   "source": [
    "So, looks reasonable."
   ]
  },
  {
   "cell_type": "markdown",
   "id": "501aa4c8-87c0-4790-8819-854aa82c69bf",
   "metadata": {
    "tags": []
   },
   "source": [
    "## 3 - Combine Monthly csv's"
   ]
  },
  {
   "cell_type": "markdown",
   "id": "fdd89d99-6606-4205-b9a5-a61bb559c287",
   "metadata": {},
   "source": [
    "Once again start with the mechanics."
   ]
  },
  {
   "cell_type": "code",
   "execution_count": null,
   "id": "d347c210-3d29-4ad6-81d9-d6f0edbe93f7",
   "metadata": {
    "tags": []
   },
   "outputs": [],
   "source": [
    "feb_df = df_for_month(2)"
   ]
  },
  {
   "cell_type": "code",
   "execution_count": null,
   "id": "949588eb-68f9-4b5b-87e9-fb611f63f7df",
   "metadata": {},
   "outputs": [],
   "source": [
    "first_two_months_df = pd.concat([jan_df, feb_df])"
   ]
  },
  {
   "cell_type": "code",
   "execution_count": null,
   "id": "7aaadc84-effc-4618-8744-531dd13fea88",
   "metadata": {},
   "outputs": [],
   "source": [
    "print(first_two_months_df['createdDate'].max())\n",
    "print(first_two_months_df['createdDate'].min())"
   ]
  },
  {
   "cell_type": "code",
   "execution_count": null,
   "id": "0d80be2f-5b6c-46f2-a718-9d1abd02aebe",
   "metadata": {},
   "outputs": [],
   "source": [
    "def build_df_for_year(year=2021):\n",
    "    \n",
    "    list_of_dfs = [df_for_month(month, year) for month in range(1, 13)]\n",
    "    \n",
    "    return pd.concat(list_of_dfs)"
   ]
  },
  {
   "cell_type": "code",
   "execution_count": null,
   "id": "66b034d9-5885-4096-990d-68c453d5cb87",
   "metadata": {},
   "outputs": [],
   "source": [
    "annual_df = build_df_for_year()"
   ]
  },
  {
   "cell_type": "code",
   "execution_count": null,
   "id": "3468dc9a-35a5-44d2-8db5-ab34a1a6a4fd",
   "metadata": {},
   "outputs": [],
   "source": [
    "delta = len(new311_gdf) - len(annual_df)\n",
    "print(f\"difference between myla and api: {delta}\")"
   ]
  },
  {
   "cell_type": "code",
   "execution_count": null,
   "id": "5b2b22a3-da39-4482-a7a3-f954b86ba214",
   "metadata": {},
   "outputs": [],
   "source": [
    "annual2020_df = build_df_for_year(2020)"
   ]
  },
  {
   "cell_type": "code",
   "execution_count": null,
   "id": "17cf167a-78b1-4956-849b-68b231d00344",
   "metadata": {},
   "outputs": [],
   "source": [
    "len(annual2020_df)"
   ]
  },
  {
   "cell_type": "code",
   "execution_count": null,
   "id": "dc458243-7f90-4c95-a433-30bb465ef0e1",
   "metadata": {},
   "outputs": [],
   "source": [
    "annual2020_df['createdDate'].max()"
   ]
  },
  {
   "cell_type": "code",
   "execution_count": null,
   "id": "ca98da25-246c-46e5-bd58-dac65707047b",
   "metadata": {},
   "outputs": [],
   "source": [
    "annual2020_df['createdDate'].min()"
   ]
  },
  {
   "cell_type": "code",
   "execution_count": null,
   "id": "2b96a143-13b0-4080-9524-45fe2679852d",
   "metadata": {},
   "outputs": [],
   "source": [
    "#annual2020_df.to_csv('api-call-2020.csv')"
   ]
  },
  {
   "cell_type": "code",
   "execution_count": null,
   "id": "9a17c933-d20a-4e69-9fc4-03f48a90402c",
   "metadata": {},
   "outputs": [],
   "source": [
    "#annual_df.to_csv('../data/for-goog/api-call-2021.csv')"
   ]
  },
  {
   "cell_type": "code",
   "execution_count": null,
   "id": "c19816a0-f2e7-4785-85b4-d38891532cfb",
   "metadata": {},
   "outputs": [],
   "source": []
  }
 ],
 "metadata": {
  "kernelspec": {
   "display_name": "Python 3 (ipykernel)",
   "language": "python",
   "name": "python3"
  },
  "language_info": {
   "codemirror_mode": {
    "name": "ipython",
    "version": 3
   },
   "file_extension": ".py",
   "mimetype": "text/x-python",
   "name": "python",
   "nbconvert_exporter": "python",
   "pygments_lexer": "ipython3",
   "version": "3.9.9"
  }
 },
 "nbformat": 4,
 "nbformat_minor": 5
}
