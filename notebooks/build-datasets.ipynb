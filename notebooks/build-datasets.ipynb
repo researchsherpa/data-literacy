{
 "cells": [
  {
   "cell_type": "markdown",
   "id": "bd009e86-a5bd-447e-b057-d9b082165e4d",
   "metadata": {},
   "source": [
    "# Dataset Construction\n",
    "\n",
    "This is mostly a scratchpad area.  I use it to examine, and then subset the extended311 to generate smaller data sets.\n",
    "\n",
    "I am going to start by reading all the data from the files generated in 311-data-cleaning and 311-data-cleaning-part2\n",
    "\n",
    "Two of the sections are required for other notebooks. ecwandc section generates data for ECWANDC.ipynb and graffiti for graffiti.ipynb."
   ]
  },
  {
   "cell_type": "code",
   "execution_count": 1,
   "id": "ff3a5f0c-80d5-49cc-b013-9a9c331863fb",
   "metadata": {
    "tags": []
   },
   "outputs": [
    {
     "name": "stdout",
     "output_type": "stream",
     "text": [
      "2021-12-30 17:33:29 Configured OSMnx 1.1.2\n",
      "2021-12-30 17:33:29 HTTP response caching is on\n"
     ]
    }
   ],
   "source": [
    "%run start.py\n",
    "import nc\n",
    "\n",
    "from utils import read_new311_shape, dt_to_object"
   ]
  },
  {
   "cell_type": "markdown",
   "id": "24f1ebcf-f46a-4baf-974f-5129899ef3ec",
   "metadata": {},
   "source": [
    "Reading the various files and quick examination to see if they make sense."
   ]
  },
  {
   "cell_type": "code",
   "execution_count": 2,
   "id": "3799fb9b-a492-453a-828c-5b498339e6dd",
   "metadata": {},
   "outputs": [],
   "source": [
    "clean311_df = pd.read_csv('../data/311/clean311.csv.zip', low_memory=False)"
   ]
  },
  {
   "cell_type": "code",
   "execution_count": 3,
   "id": "d67cc04a-07b8-4776-8d64-483f6bd708d0",
   "metadata": {},
   "outputs": [
    {
     "name": "stdout",
     "output_type": "stream",
     "text": [
      "<class 'pandas.core.frame.DataFrame'>\n",
      "RangeIndex: 1361824 entries, 0 to 1361823\n",
      "Data columns (total 22 columns):\n",
      " #   Column           Non-Null Count    Dtype  \n",
      "---  ------           --------------    -----  \n",
      " 0   SRNumber         1361824 non-null  object \n",
      " 1   created_dt       1361824 non-null  object \n",
      " 2   updated_dt       1361824 non-null  object \n",
      " 3   owner            1361821 non-null  object \n",
      " 4   request_type     1361824 non-null  object \n",
      " 5   service_dt       1288574 non-null  object \n",
      " 6   closed_dt        1329771 non-null  object \n",
      " 7   address          1361755 non-null  object \n",
      " 8   street           1099991 non-null  object \n",
      " 9   zip_code         1360412 non-null  object \n",
      " 10  latitude         1360751 non-null  float64\n",
      " 11  longitude        1360751 non-null  float64\n",
      " 12  location         1360751 non-null  object \n",
      " 13  APC              1360711 non-null  object \n",
      " 14  cd               1360740 non-null  float64\n",
      " 15  cd_member        1163608 non-null  object \n",
      " 16  nc               1341483 non-null  float64\n",
      " 17  nc_name          1341483 non-null  object \n",
      " 18  precinct         1360732 non-null  object \n",
      " 19  days_to_service  1288574 non-null  float64\n",
      " 20  days_to_close    1329771 non-null  float64\n",
      " 21  days_to_update   1361824 non-null  float64\n",
      "dtypes: float64(7), object(15)\n",
      "memory usage: 228.6+ MB\n"
     ]
    }
   ],
   "source": [
    "clean311_df.info()"
   ]
  },
  {
   "cell_type": "code",
   "execution_count": 4,
   "id": "5900d19a-ec43-4fb8-9d32-ce0da05f3e70",
   "metadata": {},
   "outputs": [],
   "source": [
    "clean311_geojson_gdf = read_new311_shape('../data/311/clean311.geojson.zip')"
   ]
  },
  {
   "cell_type": "code",
   "execution_count": 5,
   "id": "572d8707-30e2-44a0-92de-f0ff79bf0e58",
   "metadata": {},
   "outputs": [
    {
     "name": "stdout",
     "output_type": "stream",
     "text": [
      "<class 'geopandas.geodataframe.GeoDataFrame'>\n",
      "RangeIndex: 1360751 entries, 0 to 1360750\n",
      "Data columns (total 23 columns):\n",
      " #   Column           Non-Null Count    Dtype         \n",
      "---  ------           --------------    -----         \n",
      " 0   SRNumber         1360751 non-null  object        \n",
      " 1   created_dt       1360751 non-null  datetime64[ns]\n",
      " 2   updated_dt       1360751 non-null  datetime64[ns]\n",
      " 3   owner            1360748 non-null  object        \n",
      " 4   request_type     1360751 non-null  object        \n",
      " 5   service_dt       1287904 non-null  datetime64[ns]\n",
      " 6   closed_dt        1329385 non-null  datetime64[ns]\n",
      " 7   address          1360751 non-null  object        \n",
      " 8   street           1099991 non-null  object        \n",
      " 9   zip_code         1360412 non-null  object        \n",
      " 10  latitude         1360751 non-null  float64       \n",
      " 11  longitude        1360751 non-null  float64       \n",
      " 12  location         1360751 non-null  object        \n",
      " 13  APC              1360711 non-null  object        \n",
      " 14  cd               1360739 non-null  Int64         \n",
      " 15  cd_member        1163608 non-null  object        \n",
      " 16  nc               1341483 non-null  Int64         \n",
      " 17  nc_name          1341483 non-null  object        \n",
      " 18  precinct         1360732 non-null  object        \n",
      " 19  days_to_service  1287904 non-null  float64       \n",
      " 20  days_to_close    1329385 non-null  float64       \n",
      " 21  days_to_update   1360751 non-null  float64       \n",
      " 22  geometry         1360751 non-null  geometry      \n",
      "dtypes: Int64(2), datetime64[ns](4), float64(5), geometry(1), object(11)\n",
      "memory usage: 241.4+ MB\n"
     ]
    }
   ],
   "source": [
    "clean311_geojson_gdf.info()"
   ]
  },
  {
   "cell_type": "code",
   "execution_count": 6,
   "id": "85637d87-9d37-4f83-bab3-a93f72678e4f",
   "metadata": {},
   "outputs": [],
   "source": [
    "clean311_geo_shape_gdf = read_new311_shape('../data/311/clean311-geo-shape.zip')"
   ]
  },
  {
   "cell_type": "code",
   "execution_count": 7,
   "id": "36c97af4-5a7f-4d6d-a41b-cf71f2163ee3",
   "metadata": {},
   "outputs": [
    {
     "name": "stdout",
     "output_type": "stream",
     "text": [
      "<class 'geopandas.geodataframe.GeoDataFrame'>\n",
      "RangeIndex: 1360751 entries, 0 to 1360750\n",
      "Data columns (total 23 columns):\n",
      " #   Column           Non-Null Count    Dtype         \n",
      "---  ------           --------------    -----         \n",
      " 0   SRNumber         1360751 non-null  object        \n",
      " 1   created_dt       1360751 non-null  datetime64[ns]\n",
      " 2   updated_dt       1360751 non-null  datetime64[ns]\n",
      " 3   owner            1360748 non-null  object        \n",
      " 4   request_type     1360751 non-null  object        \n",
      " 5   service_dt       1287904 non-null  datetime64[ns]\n",
      " 6   closed_dt        1329385 non-null  datetime64[ns]\n",
      " 7   address          1360751 non-null  object        \n",
      " 8   street           1099991 non-null  object        \n",
      " 9   zip_code         1360412 non-null  object        \n",
      " 10  latitude         1360751 non-null  float64       \n",
      " 11  longitude        1360751 non-null  float64       \n",
      " 12  location         1360751 non-null  object        \n",
      " 13  APC              1360711 non-null  object        \n",
      " 14  cd               1360739 non-null  Int64         \n",
      " 15  cd_member        1163608 non-null  object        \n",
      " 16  nc               1341483 non-null  Int64         \n",
      " 17  nc_name          1341483 non-null  object        \n",
      " 18  precinct         1360732 non-null  object        \n",
      " 19  days_to_service  1287904 non-null  float64       \n",
      " 20  days_to_close    1329385 non-null  float64       \n",
      " 21  days_to_update   1360751 non-null  float64       \n",
      " 22  geometry         1360751 non-null  geometry      \n",
      "dtypes: Int64(2), datetime64[ns](4), float64(5), geometry(1), object(11)\n",
      "memory usage: 241.4+ MB\n"
     ]
    }
   ],
   "source": [
    "clean311_geo_shape_gdf.info()"
   ]
  },
  {
   "cell_type": "code",
   "execution_count": 8,
   "id": "4fa6ae74-37cb-4e01-871c-21f077e3ef98",
   "metadata": {},
   "outputs": [
    {
     "name": "stdout",
     "output_type": "stream",
     "text": [
      "<class 'geopandas.geodataframe.GeoDataFrame'>\n",
      "RangeIndex: 1360751 entries, 0 to 1360750\n",
      "Data columns (total 25 columns):\n",
      " #   Column           Non-Null Count    Dtype         \n",
      "---  ------           --------------    -----         \n",
      " 0   SRNumber         1360751 non-null  object        \n",
      " 1   created_dt       1360751 non-null  datetime64[ns]\n",
      " 2   updated_dt       1360751 non-null  datetime64[ns]\n",
      " 3   owner            1360748 non-null  object        \n",
      " 4   request_type     1360751 non-null  object        \n",
      " 5   service_dt       1287904 non-null  datetime64[ns]\n",
      " 6   closed_dt        1329385 non-null  datetime64[ns]\n",
      " 7   address          1360751 non-null  object        \n",
      " 8   street           1099991 non-null  object        \n",
      " 9   zip_code         1360412 non-null  object        \n",
      " 10  latitude         1360751 non-null  float64       \n",
      " 11  longitude        1360751 non-null  float64       \n",
      " 12  location         1360751 non-null  object        \n",
      " 13  APC              1360711 non-null  object        \n",
      " 14  cd               1360739 non-null  Int64         \n",
      " 15  cd_member        1163608 non-null  object        \n",
      " 16  nc               1341483 non-null  Int64         \n",
      " 17  nc_name          1341483 non-null  object        \n",
      " 18  precinct         1360732 non-null  object        \n",
      " 19  days_to_service  1287904 non-null  float64       \n",
      " 20  days_to_close    1329385 non-null  float64       \n",
      " 21  days_to_update   1360751 non-null  float64       \n",
      " 22  service_region   1341483 non-null  object        \n",
      " 23  region_id        1341483 non-null  Int64         \n",
      " 24  geometry         1360751 non-null  geometry      \n",
      "dtypes: Int64(3), datetime64[ns](4), float64(5), geometry(1), object(12)\n",
      "memory usage: 263.4+ MB\n"
     ]
    }
   ],
   "source": [
    "clean311_regions_geojson_gdf = read_new311_shape('../data/311/clean311-regions.geojson.zip')\n",
    "clean311_regions_geojson_gdf.info()"
   ]
  },
  {
   "cell_type": "code",
   "execution_count": 9,
   "id": "033e64f9-3760-4bf9-aff2-22fea72f14b8",
   "metadata": {},
   "outputs": [
    {
     "name": "stdout",
     "output_type": "stream",
     "text": [
      "<class 'geopandas.geodataframe.GeoDataFrame'>\n",
      "RangeIndex: 1360751 entries, 0 to 1360750\n",
      "Data columns (total 25 columns):\n",
      " #   Column           Non-Null Count    Dtype         \n",
      "---  ------           --------------    -----         \n",
      " 0   SRNumber         1360751 non-null  object        \n",
      " 1   created_dt       1360751 non-null  datetime64[ns]\n",
      " 2   updated_dt       1360751 non-null  datetime64[ns]\n",
      " 3   owner            1360748 non-null  object        \n",
      " 4   request_type     1360751 non-null  object        \n",
      " 5   service_dt       1287904 non-null  datetime64[ns]\n",
      " 6   closed_dt        1329385 non-null  datetime64[ns]\n",
      " 7   address          1360751 non-null  object        \n",
      " 8   street           1099991 non-null  object        \n",
      " 9   zip_code         1360412 non-null  object        \n",
      " 10  latitude         1360751 non-null  float64       \n",
      " 11  longitude        1360751 non-null  float64       \n",
      " 12  location         1360751 non-null  object        \n",
      " 13  APC              1360711 non-null  object        \n",
      " 14  cd               1360739 non-null  Int64         \n",
      " 15  cd_member        1163608 non-null  object        \n",
      " 16  nc               1341483 non-null  Int64         \n",
      " 17  nc_name          1341483 non-null  object        \n",
      " 18  precinct         1360732 non-null  object        \n",
      " 19  days_to_service  1287904 non-null  float64       \n",
      " 20  days_to_close    1329385 non-null  float64       \n",
      " 21  days_to_update   1360751 non-null  float64       \n",
      " 22  service_region   1341483 non-null  object        \n",
      " 23  region_id        1341483 non-null  Int64         \n",
      " 24  geometry         1360751 non-null  geometry      \n",
      "dtypes: Int64(3), datetime64[ns](4), float64(5), geometry(1), object(12)\n",
      "memory usage: 263.4+ MB\n"
     ]
    }
   ],
   "source": [
    "clean311_regions_shape_gdf = read_new311_shape('../data/311/clean311-regions-shape.zip')\n",
    "clean311_regions_shape_gdf.info()"
   ]
  },
  {
   "cell_type": "markdown",
   "id": "f91ae002-fae9-4738-8c9a-4df8c9044499",
   "metadata": {},
   "source": [
    "So these tests seem reasonable."
   ]
  },
  {
   "cell_type": "markdown",
   "id": "6c0eae63-09a0-4ec0-870a-9d9666429a42",
   "metadata": {},
   "source": [
    "This is the file used in other parts of the nb to examine, subset, ..."
   ]
  },
  {
   "cell_type": "code",
   "execution_count": 10,
   "id": "7002984c-c261-4b08-bb9e-ae3614385f3d",
   "metadata": {},
   "outputs": [
    {
     "name": "stdout",
     "output_type": "stream",
     "text": [
      "<class 'geopandas.geodataframe.GeoDataFrame'>\n",
      "RangeIndex: 1360751 entries, 0 to 1360750\n",
      "Data columns (total 27 columns):\n",
      " #   Column           Non-Null Count    Dtype         \n",
      "---  ------           --------------    -----         \n",
      " 0   SRNumber         1360751 non-null  object        \n",
      " 1   created_dt       1360751 non-null  datetime64[ns]\n",
      " 2   updated_dt       1360751 non-null  datetime64[ns]\n",
      " 3   owner            1360748 non-null  object        \n",
      " 4   request_type     1360751 non-null  object        \n",
      " 5   service_dt       1287904 non-null  datetime64[ns]\n",
      " 6   closed_dt        1329385 non-null  datetime64[ns]\n",
      " 7   address          1360751 non-null  object        \n",
      " 8   street           1099991 non-null  object        \n",
      " 9   zip_code         1360412 non-null  object        \n",
      " 10  latitude         1360751 non-null  float64       \n",
      " 11  longitude        1360751 non-null  float64       \n",
      " 12  location         1360751 non-null  object        \n",
      " 13  APC              1360711 non-null  object        \n",
      " 14  cd               1360739 non-null  Int64         \n",
      " 15  cd_member        1163608 non-null  object        \n",
      " 16  nc               1341483 non-null  Int64         \n",
      " 17  nc_name          1341483 non-null  object        \n",
      " 18  precinct         1360732 non-null  object        \n",
      " 19  days_to_service  1287904 non-null  float64       \n",
      " 20  days_to_close    1329385 non-null  float64       \n",
      " 21  days_to_update   1360751 non-null  float64       \n",
      " 22  service_region   1341483 non-null  object        \n",
      " 23  region_id        1341483 non-null  Int64         \n",
      " 24  marker_color     1360751 non-null  object        \n",
      " 25  popup_message    1360751 non-null  object        \n",
      " 26  geometry         1360751 non-null  geometry      \n",
      "dtypes: Int64(3), datetime64[ns](4), float64(5), geometry(1), object(14)\n",
      "memory usage: 284.2+ MB\n"
     ]
    }
   ],
   "source": [
    "extended311_gdf = read_new311_shape('../data/311/extended311-geo-shape.zip')\n",
    "extended311_gdf.info()"
   ]
  },
  {
   "cell_type": "code",
   "execution_count": null,
   "id": "b0942010-a092-405f-83a7-13a630cd5268",
   "metadata": {},
   "outputs": [],
   "source": []
  },
  {
   "cell_type": "markdown",
   "id": "9fc3d8e8-c204-4bd5-b8ed-3d3346723983",
   "metadata": {},
   "source": [
    "# Graffiti \n",
    "\n",
    "Some experimentation here."
   ]
  },
  {
   "cell_type": "code",
   "execution_count": 11,
   "id": "289b9a53-8987-4bfc-a8b7-a8770c6fa79f",
   "metadata": {},
   "outputs": [
    {
     "data": {
      "text/plain": [
       "Bulky Items                   650753\n",
       "Graffiti Removal              325983\n",
       "Metal/Household Appliances    117444\n",
       "Illegal Dumping Pickup        109969\n",
       "Homeless Encampment            44952\n",
       "Electronic Waste               38971\n",
       "Other                          26392\n",
       "Dead Animal Removal            24079\n",
       "Single Streetlight Issue       11186\n",
       "Multiple Streetlight Issue      9133\n",
       "Report Water Waste              1608\n",
       "Feedback                         281\n",
       "Name: request_type, dtype: int64"
      ]
     },
     "execution_count": 11,
     "metadata": {},
     "output_type": "execute_result"
    }
   ],
   "source": [
    "extended311_gdf['request_type'].value_counts()"
   ]
  },
  {
   "cell_type": "code",
   "execution_count": 12,
   "id": "91883e62-4724-491a-8809-7f746930ff99",
   "metadata": {},
   "outputs": [],
   "source": [
    "graffiti_gdf = extended311_gdf.query(f\"request_type == 'Graffiti Removal'\").reset_index().drop(columns=['index'])"
   ]
  },
  {
   "cell_type": "code",
   "execution_count": 13,
   "id": "66c6526a-2a27-4b67-977d-1fc8e2b1b201",
   "metadata": {},
   "outputs": [
    {
     "data": {
      "text/plain": [
       "South Central                     27244\n",
       "Boyle Heights                     19221\n",
       "Downtown Los Angeles              16224\n",
       "Zapata King                       13323\n",
       "CANNDU                            10997\n",
       "                                  ...  \n",
       "Porter Ranch                        143\n",
       "North Westwood                      106\n",
       "CENTRAL HOLLYWOOD NC                  3\n",
       "WILSHIRE CENTER - KOREATOWN NC        1\n",
       "BOYLE HEIGHTS NC                      1\n",
       "Name: nc_name, Length: 102, dtype: int64"
      ]
     },
     "execution_count": 13,
     "metadata": {},
     "output_type": "execute_result"
    }
   ],
   "source": [
    "graffiti_gdf['nc_name'].value_counts()"
   ]
  },
  {
   "cell_type": "code",
   "execution_count": 14,
   "id": "41991829-1015-4386-b7d1-5cdeadc4a54d",
   "metadata": {},
   "outputs": [
    {
     "data": {
      "text/plain": [
       "REGION 9 - SOUTH LA 2           82898\n",
       "REGION 6 - CENTRAL 2            45953\n",
       "REGION 8 - NORTH EAST LA        31923\n",
       "REGION 1 - NORTH EAST VALLEY    25809\n",
       "REGION 5 - CENTRAL 1            23299\n",
       "REGION 4 - SOUTH EAST VALLEY    22435\n",
       "REGION 12 - HARBOR              22226\n",
       "REGION 7 - EAST                 17929\n",
       "REGION 3 - SOUTH WEST VALLEY    15053\n",
       "REGION 10 - SOUTH LA 1          14063\n",
       "REGION 11 - WEST LA             13572\n",
       "REGION 2 - NORTH WEST VALLEY     8049\n",
       "Name: service_region, dtype: int64"
      ]
     },
     "execution_count": 14,
     "metadata": {},
     "output_type": "execute_result"
    }
   ],
   "source": [
    "graffiti_gdf['service_region'].value_counts()"
   ]
  },
  {
   "cell_type": "code",
   "execution_count": null,
   "id": "3881f797-3ed9-4b3e-9673-b04992df3ae0",
   "metadata": {},
   "outputs": [],
   "source": [
    "graffiti_gdf = dt_to_object(graffiti_gdf)\n",
    "\n",
    "graffiti_gdf.to_file('../data/311/graffiti.geojson', driver='GeoJSON')"
   ]
  },
  {
   "cell_type": "markdown",
   "id": "c76c103c-3dae-4362-961b-df00119b56c4",
   "metadata": {},
   "source": [
    "This is still a bit over 500MB.  Too big."
   ]
  },
  {
   "cell_type": "code",
   "execution_count": null,
   "id": "36ac46e1-75ed-4c8d-9dac-c198ab3e6b04",
   "metadata": {},
   "outputs": [],
   "source": [
    "extended311_gdf[extended311_gdf['nc_name'].notnull()].query(f\"nc_name.str.contains('Southeast')\")['nc']"
   ]
  },
  {
   "cell_type": "markdown",
   "id": "1b179879-6624-4ce0-80e2-5fbb64fa9bff",
   "metadata": {},
   "source": [
    "# Looking at Service Regions\n",
    "\n",
    "I'm basically trying to find some that are under the 100MB limit for github."
   ]
  },
  {
   "cell_type": "code",
   "execution_count": null,
   "id": "af30c4f6-a0ef-4ccc-aede-376453292ed4",
   "metadata": {},
   "outputs": [],
   "source": [
    "extended311_gdf.service_region.value_counts()"
   ]
  },
  {
   "cell_type": "markdown",
   "id": "085eb9dc-d052-4e8d-a297-dbb8ec52d4c3",
   "metadata": {},
   "source": [
    "number of 311 calls per region"
   ]
  },
  {
   "cell_type": "code",
   "execution_count": null,
   "id": "b7709bfa-08c8-43cc-858d-b673e80be5ad",
   "metadata": {},
   "outputs": [],
   "source": [
    "extended311_gdf.region_id.value_counts()"
   ]
  },
  {
   "cell_type": "code",
   "execution_count": null,
   "id": "2e616867-6532-44d0-8a50-72bf5b9b21b0",
   "metadata": {},
   "outputs": [],
   "source": [
    "region_gdf = extended311_gdf.query(f\"region_id == 7\").reset_index().drop(columns=['index'])"
   ]
  },
  {
   "cell_type": "code",
   "execution_count": null,
   "id": "5a114730-3180-443f-be60-082983f965e6",
   "metadata": {},
   "outputs": [],
   "source": [
    "len(region_gdf)"
   ]
  },
  {
   "cell_type": "code",
   "execution_count": null,
   "id": "5d63aa16-4e50-4fe7-8dc0-c1d2e375790c",
   "metadata": {},
   "outputs": [],
   "source": [
    "region_gdf = dt_to_object(region_gdf)"
   ]
  },
  {
   "cell_type": "code",
   "execution_count": null,
   "id": "9ee3369b-1652-44c2-bb2c-cccbad35274c",
   "metadata": {},
   "outputs": [],
   "source": [
    "region_gdf.to_file('../data/311/region.zip')"
   ]
  },
  {
   "cell_type": "code",
   "execution_count": null,
   "id": "5046c5f8-21eb-4d01-bcf4-08682487e920",
   "metadata": {},
   "outputs": [],
   "source": [
    "region_gdf.request_type.value_counts()"
   ]
  },
  {
   "cell_type": "code",
   "execution_count": null,
   "id": "e0e5e2fc-c9b8-4613-91a6-196cdb1de1d8",
   "metadata": {},
   "outputs": [],
   "source": [
    "region_gdf.nc_name.value_counts()"
   ]
  },
  {
   "cell_type": "code",
   "execution_count": null,
   "id": "b4df44bc-7537-48e5-bb92-64ea8038bf2b",
   "metadata": {},
   "outputs": [],
   "source": [
    "region2_gdf = extended311_gdf.query(f\"region_id == 2\").reset_index().drop(columns=['index'])\n",
    "region2_gdf = dt_to_object(region2_gdf)"
   ]
  },
  {
   "cell_type": "code",
   "execution_count": null,
   "id": "00c6e17f-baf3-49bb-9b27-4d3880ff6266",
   "metadata": {},
   "outputs": [],
   "source": [
    "region2_gdf.to_file('../data/311/region2.zip')"
   ]
  },
  {
   "cell_type": "code",
   "execution_count": null,
   "id": "18b11870-ebe5-45ce-97d3-8a26c977541b",
   "metadata": {},
   "outputs": [],
   "source": [
    "extended311_gdf.nc.value_counts()"
   ]
  },
  {
   "cell_type": "code",
   "execution_count": null,
   "id": "aaab3b3e-915c-429a-b351-c1e05a3bff1e",
   "metadata": {},
   "outputs": [],
   "source": [
    "mostest_gdf = extended311_gdf.query(f\"nc == 78\").reset_index().drop(columns=['index'])"
   ]
  },
  {
   "cell_type": "code",
   "execution_count": null,
   "id": "deada632-ce99-4ac4-9b57-8db51221f9c6",
   "metadata": {},
   "outputs": [],
   "source": [
    "mostest_gdf"
   ]
  },
  {
   "cell_type": "code",
   "execution_count": null,
   "id": "2f2bb8ce-62db-4df3-b561-459e87b78a96",
   "metadata": {},
   "outputs": [],
   "source": []
  },
  {
   "cell_type": "code",
   "execution_count": null,
   "id": "793f7dd3-94bb-421a-a467-95a2129ce6b6",
   "metadata": {},
   "outputs": [],
   "source": [
    "mostest_gdf['created_dt'] = mostest_gdf['created_dt'].astype(str)\n",
    "\n",
    "mostest_gdf['service_dt'] = mostest_gdf['service_dt'].astype(str)\n",
    "mostest_gdf['closed_dt'] = mostest_gdf['closed_dt'].astype(str)\n",
    "mostest_gdf['updated_dt'] = mostest_gdf['updated_dt'].astype(str)"
   ]
  },
  {
   "cell_type": "code",
   "execution_count": null,
   "id": "126f6ede-42c0-4e97-8aa3-695b0c07e6ff",
   "metadata": {},
   "outputs": [],
   "source": [
    "mostest_gdf.to_file('../data/311/mostest.zip')"
   ]
  },
  {
   "cell_type": "code",
   "execution_count": null,
   "id": "beab4404-095d-41b1-9cec-2075c4c80ab7",
   "metadata": {},
   "outputs": [],
   "source": [
    "extended311_gdf[['address']].value_counts()"
   ]
  },
  {
   "cell_type": "code",
   "execution_count": null,
   "id": "803c8868-e5be-48ca-a229-83361a269ceb",
   "metadata": {},
   "outputs": [],
   "source": [
    "groupby_request_type = extended311_gdf.groupby('request_type')"
   ]
  },
  {
   "cell_type": "code",
   "execution_count": null,
   "id": "61f404c4-5390-409d-ae9e-166d82988dd6",
   "metadata": {},
   "outputs": [],
   "source": [
    "len(groupby_request_type)"
   ]
  },
  {
   "cell_type": "code",
   "execution_count": null,
   "id": "9e463d29-14d2-4f0f-915f-834aef873dcb",
   "metadata": {},
   "outputs": [],
   "source": [
    "groupby_request_type.get_group('Bulky Items').reset_index().drop(columns=['index'])"
   ]
  },
  {
   "cell_type": "markdown",
   "id": "450fef83-02af-4d5d-be1d-83bce4abf629",
   "metadata": {},
   "source": [
    "# ecwandc\n",
    "\n",
    "I thought this NC may be a good one to explore.  They had the most participants in the data101 presentations.\n",
    "\n",
    "I use this file in the ECWANDC.ipynb analysis."
   ]
  },
  {
   "cell_type": "code",
   "execution_count": null,
   "id": "3bc54193-6434-422f-a365-ea828d15bdc1",
   "metadata": {},
   "outputs": [],
   "source": [
    "#small_gdf = new311_gdf.query(f\"nc == 46\").reset_index().drop(columns=['index'])\n",
    "ecwandc311_gdf = extended311_gdf.query(f\"nc == 79\").reset_index().drop(columns=['index'])"
   ]
  },
  {
   "cell_type": "code",
   "execution_count": null,
   "id": "06819c82-8e39-4560-b118-2abbeab04b53",
   "metadata": {},
   "outputs": [],
   "source": [
    "len(ecwandc311_gdf)"
   ]
  },
  {
   "cell_type": "code",
   "execution_count": null,
   "id": "f550038d-68f5-4c31-b371-5b137fa9abf7",
   "metadata": {},
   "outputs": [],
   "source": [
    "ecwandc311_gdf.info()"
   ]
  },
  {
   "cell_type": "code",
   "execution_count": null,
   "id": "3d37df75-cde5-4cfb-b784-a0bdbdc64734",
   "metadata": {},
   "outputs": [],
   "source": []
  },
  {
   "cell_type": "markdown",
   "id": "af5e0921-0cb1-47ae-8a18-32cdea63da6e",
   "metadata": {},
   "source": [
    "Finally, for this data set I'm going to save as a basic shape file.  It's small so should fit within size limits."
   ]
  },
  {
   "cell_type": "code",
   "execution_count": null,
   "id": "4eca95ac-117e-4a94-b96c-a0446f626ad3",
   "metadata": {},
   "outputs": [],
   "source": [
    "ecwandc311_gdf = dt_to_object(ecwandc311_gdf)\n",
    "\n",
    "ecwandc311_gdf.to_file('../data/311/ecwandc311.shp')"
   ]
  },
  {
   "cell_type": "code",
   "execution_count": null,
   "id": "21b7756c-6593-4dd6-b1af-449f1b3d1437",
   "metadata": {},
   "outputs": [],
   "source": []
  }
 ],
 "metadata": {
  "kernelspec": {
   "display_name": "Python 3 (ipykernel)",
   "language": "python",
   "name": "python3"
  },
  "language_info": {
   "codemirror_mode": {
    "name": "ipython",
    "version": 3
   },
   "file_extension": ".py",
   "mimetype": "text/x-python",
   "name": "python",
   "nbconvert_exporter": "python",
   "pygments_lexer": "ipython3",
   "version": "3.9.9"
  }
 },
 "nbformat": 4,
 "nbformat_minor": 5
}
