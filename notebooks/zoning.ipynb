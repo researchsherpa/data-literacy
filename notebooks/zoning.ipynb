{
 "cells": [
  {
   "cell_type": "code",
   "execution_count": null,
   "id": "4b7610bb-edea-45ac-b319-756bded2c7ca",
   "metadata": {},
   "outputs": [],
   "source": [
    "run start.py"
   ]
  },
  {
   "cell_type": "code",
   "execution_count": null,
   "id": "b32690e0-4938-4059-9ece-948142bcb67e",
   "metadata": {},
   "outputs": [],
   "source": [
    "zone_gdf = gpd.read_file('../data/zoning/Zoning.zip')"
   ]
  },
  {
   "cell_type": "code",
   "execution_count": null,
   "id": "158bb2a1-eb1e-48b4-9263-cd11a8447e22",
   "metadata": {},
   "outputs": [],
   "source": [
    "len(zone_gdf)"
   ]
  },
  {
   "cell_type": "code",
   "execution_count": null,
   "id": "cb7cc08f-5989-43f2-bc73-e88df91c0db2",
   "metadata": {},
   "outputs": [],
   "source": [
    "zone_gdf.head()"
   ]
  },
  {
   "cell_type": "code",
   "execution_count": null,
   "id": "add887ea-e13d-400c-b7c5-41b6ebc4ab9a",
   "metadata": {},
   "outputs": [],
   "source": [
    "zone_gdf.zone_cmplt.value_counts()"
   ]
  },
  {
   "cell_type": "code",
   "execution_count": null,
   "id": "859b82c7-f461-472f-ac84-a8a31f8e1ab0",
   "metadata": {},
   "outputs": [],
   "source": [
    "zone_ref = pd.read_csv('../data/zoning/Zoning_Reference_Table.csv')"
   ]
  },
  {
   "cell_type": "code",
   "execution_count": null,
   "id": "2f25f88c-73ab-4747-afea-90812171f28a",
   "metadata": {},
   "outputs": [],
   "source": [
    "zone_ref"
   ]
  },
  {
   "cell_type": "code",
   "execution_count": null,
   "id": "8179d450-1c2b-43b7-8f84-b37ec03ae10c",
   "metadata": {},
   "outputs": [],
   "source": [
    "zone_ref.ZONE_CLASS.value_counts().to_frame().head(50)"
   ]
  },
  {
   "cell_type": "code",
   "execution_count": null,
   "id": "572a88f0-97fe-4a95-b19b-3439f2d1743e",
   "metadata": {},
   "outputs": [],
   "source": []
  }
 ],
 "metadata": {
  "kernelspec": {
   "display_name": "Python 3 (ipykernel)",
   "language": "python",
   "name": "python3"
  },
  "language_info": {
   "codemirror_mode": {
    "name": "ipython",
    "version": 3
   },
   "file_extension": ".py",
   "mimetype": "text/x-python",
   "name": "python",
   "nbconvert_exporter": "python",
   "pygments_lexer": "ipython3",
   "version": "3.8.12"
  }
 },
 "nbformat": 4,
 "nbformat_minor": 5
}
